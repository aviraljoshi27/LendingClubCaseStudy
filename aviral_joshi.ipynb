{
 "cells": [
  {
   "cell_type": "markdown",
   "id": "d47a1b98-a3b5-4981-8ee0-086662e2383c",
   "metadata": {},
   "source": [
    "### Importing the necessary library"
   ]
  },
  {
   "cell_type": "code",
   "execution_count": 114,
   "id": "22adab55-d58a-4357-b01d-1d65cf98907a",
   "metadata": {},
   "outputs": [],
   "source": [
    "import pandas as pd\n",
    "import numpy as np\n",
    "import matplotlib.pyplot as plt\n",
    "import seaborn as sns\n",
    "import warnings\n",
    "warnings.filterwarnings('ignore')"
   ]
  },
  {
   "cell_type": "code",
   "execution_count": 115,
   "id": "5409ba9a-be8d-4dd8-8f39-85977f3cefb1",
   "metadata": {},
   "outputs": [],
   "source": [
    "#setting options to check max columns\n",
    "pd.set_option('display.max_columns', None)\n",
    "# loading the dataframe\n",
    "loan_df = pd.read_csv(r\"loan.csv\")"
   ]
  },
  {
   "cell_type": "markdown",
   "id": "6e3e0d91-e36a-4019-b999-69f0208ef245",
   "metadata": {},
   "source": [
    "### Exploring the dataframe"
   ]
  },
  {
   "cell_type": "code",
   "execution_count": 116,
   "id": "10195e7a-5043-4ff2-b772-950bc6b08a25",
   "metadata": {},
   "outputs": [
    {
     "name": "stdout",
     "output_type": "stream",
     "text": [
      "<class 'pandas.core.frame.DataFrame'>\n",
      "RangeIndex: 39717 entries, 0 to 39716\n",
      "Data columns (total 111 columns):\n",
      " #    Column                          Dtype  \n",
      "---   ------                          -----  \n",
      " 0    id                              int64  \n",
      " 1    member_id                       int64  \n",
      " 2    loan_amnt                       int64  \n",
      " 3    funded_amnt                     int64  \n",
      " 4    funded_amnt_inv                 float64\n",
      " 5    term                            object \n",
      " 6    int_rate                        object \n",
      " 7    installment                     float64\n",
      " 8    grade                           object \n",
      " 9    sub_grade                       object \n",
      " 10   emp_title                       object \n",
      " 11   emp_length                      object \n",
      " 12   home_ownership                  object \n",
      " 13   annual_inc                      float64\n",
      " 14   verification_status             object \n",
      " 15   issue_d                         object \n",
      " 16   loan_status                     object \n",
      " 17   pymnt_plan                      object \n",
      " 18   url                             object \n",
      " 19   desc                            object \n",
      " 20   purpose                         object \n",
      " 21   title                           object \n",
      " 22   zip_code                        object \n",
      " 23   addr_state                      object \n",
      " 24   dti                             float64\n",
      " 25   delinq_2yrs                     int64  \n",
      " 26   earliest_cr_line                object \n",
      " 27   inq_last_6mths                  int64  \n",
      " 28   mths_since_last_delinq          float64\n",
      " 29   mths_since_last_record          float64\n",
      " 30   open_acc                        int64  \n",
      " 31   pub_rec                         int64  \n",
      " 32   revol_bal                       int64  \n",
      " 33   revol_util                      object \n",
      " 34   total_acc                       int64  \n",
      " 35   initial_list_status             object \n",
      " 36   out_prncp                       float64\n",
      " 37   out_prncp_inv                   float64\n",
      " 38   total_pymnt                     float64\n",
      " 39   total_pymnt_inv                 float64\n",
      " 40   total_rec_prncp                 float64\n",
      " 41   total_rec_int                   float64\n",
      " 42   total_rec_late_fee              float64\n",
      " 43   recoveries                      float64\n",
      " 44   collection_recovery_fee         float64\n",
      " 45   last_pymnt_d                    object \n",
      " 46   last_pymnt_amnt                 float64\n",
      " 47   next_pymnt_d                    object \n",
      " 48   last_credit_pull_d              object \n",
      " 49   collections_12_mths_ex_med      float64\n",
      " 50   mths_since_last_major_derog     float64\n",
      " 51   policy_code                     int64  \n",
      " 52   application_type                object \n",
      " 53   annual_inc_joint                float64\n",
      " 54   dti_joint                       float64\n",
      " 55   verification_status_joint       float64\n",
      " 56   acc_now_delinq                  int64  \n",
      " 57   tot_coll_amt                    float64\n",
      " 58   tot_cur_bal                     float64\n",
      " 59   open_acc_6m                     float64\n",
      " 60   open_il_6m                      float64\n",
      " 61   open_il_12m                     float64\n",
      " 62   open_il_24m                     float64\n",
      " 63   mths_since_rcnt_il              float64\n",
      " 64   total_bal_il                    float64\n",
      " 65   il_util                         float64\n",
      " 66   open_rv_12m                     float64\n",
      " 67   open_rv_24m                     float64\n",
      " 68   max_bal_bc                      float64\n",
      " 69   all_util                        float64\n",
      " 70   total_rev_hi_lim                float64\n",
      " 71   inq_fi                          float64\n",
      " 72   total_cu_tl                     float64\n",
      " 73   inq_last_12m                    float64\n",
      " 74   acc_open_past_24mths            float64\n",
      " 75   avg_cur_bal                     float64\n",
      " 76   bc_open_to_buy                  float64\n",
      " 77   bc_util                         float64\n",
      " 78   chargeoff_within_12_mths        float64\n",
      " 79   delinq_amnt                     int64  \n",
      " 80   mo_sin_old_il_acct              float64\n",
      " 81   mo_sin_old_rev_tl_op            float64\n",
      " 82   mo_sin_rcnt_rev_tl_op           float64\n",
      " 83   mo_sin_rcnt_tl                  float64\n",
      " 84   mort_acc                        float64\n",
      " 85   mths_since_recent_bc            float64\n",
      " 86   mths_since_recent_bc_dlq        float64\n",
      " 87   mths_since_recent_inq           float64\n",
      " 88   mths_since_recent_revol_delinq  float64\n",
      " 89   num_accts_ever_120_pd           float64\n",
      " 90   num_actv_bc_tl                  float64\n",
      " 91   num_actv_rev_tl                 float64\n",
      " 92   num_bc_sats                     float64\n",
      " 93   num_bc_tl                       float64\n",
      " 94   num_il_tl                       float64\n",
      " 95   num_op_rev_tl                   float64\n",
      " 96   num_rev_accts                   float64\n",
      " 97   num_rev_tl_bal_gt_0             float64\n",
      " 98   num_sats                        float64\n",
      " 99   num_tl_120dpd_2m                float64\n",
      " 100  num_tl_30dpd                    float64\n",
      " 101  num_tl_90g_dpd_24m              float64\n",
      " 102  num_tl_op_past_12m              float64\n",
      " 103  pct_tl_nvr_dlq                  float64\n",
      " 104  percent_bc_gt_75                float64\n",
      " 105  pub_rec_bankruptcies            float64\n",
      " 106  tax_liens                       float64\n",
      " 107  tot_hi_cred_lim                 float64\n",
      " 108  total_bal_ex_mort               float64\n",
      " 109  total_bc_limit                  float64\n",
      " 110  total_il_high_credit_limit      float64\n",
      "dtypes: float64(74), int64(13), object(24)\n",
      "memory usage: 33.6+ MB\n"
     ]
    }
   ],
   "source": [
    "loan_df.info('display.max_columns')"
   ]
  },
  {
   "cell_type": "code",
   "execution_count": 117,
   "id": "696962c3-1a7b-42df-93e6-a0a8d08b502f",
   "metadata": {},
   "outputs": [
    {
     "data": {
      "text/plain": [
       "id                                0\n",
       "member_id                         0\n",
       "loan_amnt                         0\n",
       "funded_amnt                       0\n",
       "funded_amnt_inv                   0\n",
       "                              ...  \n",
       "tax_liens                        39\n",
       "tot_hi_cred_lim               39717\n",
       "total_bal_ex_mort             39717\n",
       "total_bc_limit                39717\n",
       "total_il_high_credit_limit    39717\n",
       "Length: 111, dtype: int64"
      ]
     },
     "execution_count": 117,
     "metadata": {},
     "output_type": "execute_result"
    }
   ],
   "source": [
    "#checking null values\n",
    "loan_df.isnull().sum()"
   ]
  },
  {
   "cell_type": "code",
   "execution_count": 118,
   "id": "a144d22a-6ee1-4b5f-be30-9ccd6e7d9ade",
   "metadata": {},
   "outputs": [],
   "source": [
    "#checking colulmns that have all null value\n",
    "columns_with_all_null_value = loan_df.columns[loan_df.isnull().sum() == 39717]"
   ]
  },
  {
   "cell_type": "code",
   "execution_count": 119,
   "id": "9eb8831d-689a-4f39-a346-328fdf894f35",
   "metadata": {},
   "outputs": [],
   "source": [
    "# drop column that have all the null values\n",
    "filtered_loan_df = loan_df.drop(columns= columns_with_all_null_value)"
   ]
  },
  {
   "cell_type": "markdown",
   "id": "be83319b-3efe-4fdc-9de2-a17f0571d10f",
   "metadata": {},
   "source": [
    "### Exploring the filtered data frame"
   ]
  },
  {
   "cell_type": "markdown",
   "id": "5e582dfc-146d-4133-887c-c3ea970e5886",
   "metadata": {},
   "source": [
    "### Checking Null Count"
   ]
  },
  {
   "cell_type": "code",
   "execution_count": 120,
   "id": "6953499c-0586-4c13-9d62-ff7ee185d11a",
   "metadata": {},
   "outputs": [
    {
     "data": {
      "text/plain": [
       "id                                0\n",
       "member_id                         0\n",
       "loan_amnt                         0\n",
       "funded_amnt                       0\n",
       "funded_amnt_inv                   0\n",
       "term                              0\n",
       "int_rate                          0\n",
       "installment                       0\n",
       "grade                             0\n",
       "sub_grade                         0\n",
       "emp_title                      2459\n",
       "emp_length                     1075\n",
       "home_ownership                    0\n",
       "annual_inc                        0\n",
       "verification_status               0\n",
       "issue_d                           0\n",
       "loan_status                       0\n",
       "pymnt_plan                        0\n",
       "url                               0\n",
       "desc                          12942\n",
       "purpose                           0\n",
       "title                            11\n",
       "zip_code                          0\n",
       "addr_state                        0\n",
       "dti                               0\n",
       "delinq_2yrs                       0\n",
       "earliest_cr_line                  0\n",
       "inq_last_6mths                    0\n",
       "mths_since_last_delinq        25682\n",
       "mths_since_last_record        36931\n",
       "open_acc                          0\n",
       "pub_rec                           0\n",
       "revol_bal                         0\n",
       "revol_util                       50\n",
       "total_acc                         0\n",
       "initial_list_status               0\n",
       "out_prncp                         0\n",
       "out_prncp_inv                     0\n",
       "total_pymnt                       0\n",
       "total_pymnt_inv                   0\n",
       "total_rec_prncp                   0\n",
       "total_rec_int                     0\n",
       "total_rec_late_fee                0\n",
       "recoveries                        0\n",
       "collection_recovery_fee           0\n",
       "last_pymnt_d                     71\n",
       "last_pymnt_amnt                   0\n",
       "next_pymnt_d                  38577\n",
       "last_credit_pull_d                2\n",
       "collections_12_mths_ex_med       56\n",
       "policy_code                       0\n",
       "application_type                  0\n",
       "acc_now_delinq                    0\n",
       "chargeoff_within_12_mths         56\n",
       "delinq_amnt                       0\n",
       "pub_rec_bankruptcies            697\n",
       "tax_liens                        39\n",
       "dtype: int64"
      ]
     },
     "execution_count": 120,
     "metadata": {},
     "output_type": "execute_result"
    }
   ],
   "source": [
    "filtered_loan_df.isnull().sum()"
   ]
  },
  {
   "cell_type": "markdown",
   "id": "9c1d3119-62ee-4148-9b85-73593e3b31ab",
   "metadata": {},
   "source": [
    "### Conversion of data types for columns"
   ]
  },
  {
   "cell_type": "markdown",
   "id": "b6bfafc2-4767-48a2-a011-a7eabed9d04c",
   "metadata": {},
   "source": [
    "### column: term  --> for how much time loan has been taken by  the borrower"
   ]
  },
  {
   "cell_type": "code",
   "execution_count": 121,
   "id": "179b95c9-2f89-48d1-8929-c504c0784f9b",
   "metadata": {},
   "outputs": [
    {
     "data": {
      "text/plain": [
       "array([' 36 months', ' 60 months'], dtype=object)"
      ]
     },
     "execution_count": 121,
     "metadata": {},
     "output_type": "execute_result"
    }
   ],
   "source": [
    "# checking for unique value in term column\n",
    "filtered_loan_df['term'].unique()"
   ]
  },
  {
   "cell_type": "code",
   "execution_count": 122,
   "id": "7f006396-b23e-4c94-b029-e95639d5bb65",
   "metadata": {},
   "outputs": [],
   "source": [
    "#converting type of column for calculation purpose\n",
    "filtered_loan_df['term'] = filtered_loan_df['term'].str.replace('months', '').astype(int)"
   ]
  },
  {
   "cell_type": "code",
   "execution_count": 123,
   "id": "b36e36ca-9d0a-4d3f-b1c1-134da92b5747",
   "metadata": {},
   "outputs": [],
   "source": [
    "#renaming `term` column to `term in months` for better understanding\n",
    "filtered_loan_df.rename(columns = {'term' : 'term in months'},  inplace= True)"
   ]
  },
  {
   "cell_type": "markdown",
   "id": "7011a321-03d8-47ce-b9d2-fa70da71a914",
   "metadata": {},
   "source": [
    "### column: int_rate --> by what rate of interest loan was given"
   ]
  },
  {
   "cell_type": "code",
   "execution_count": 124,
   "id": "b4f9238f-5e81-425f-a07d-f5baaf3ef43b",
   "metadata": {},
   "outputs": [
    {
     "data": {
      "text/plain": [
       "array(['10.65%', '15.27%', '15.96%', '13.49%', '12.69%', '7.90%',\n",
       "       '18.64%', '21.28%', '14.65%', '9.91%', '16.29%', '6.03%', '11.71%',\n",
       "       '12.42%', '14.27%', '16.77%', '7.51%', '8.90%', '18.25%', '6.62%',\n",
       "       '19.91%', '17.27%', '17.58%', '21.67%', '19.42%', '22.06%',\n",
       "       '20.89%', '20.30%', '23.91%', '19.03%', '23.52%', '23.13%',\n",
       "       '22.74%', '22.35%', '24.11%', '6.00%', '22.11%', '7.49%', '11.99%',\n",
       "       '5.99%', '10.99%', '9.99%', '18.79%', '11.49%', '8.49%', '15.99%',\n",
       "       '16.49%', '6.99%', '12.99%', '15.23%', '14.79%', '5.42%', '10.59%',\n",
       "       '17.49%', '15.62%', '21.36%', '19.29%', '13.99%', '18.39%',\n",
       "       '16.89%', '17.99%', '20.62%', '20.99%', '22.85%', '19.69%',\n",
       "       '20.25%', '23.22%', '21.74%', '22.48%', '23.59%', '12.62%',\n",
       "       '18.07%', '11.63%', '7.91%', '7.42%', '11.14%', '20.20%', '12.12%',\n",
       "       '19.39%', '16.11%', '17.54%', '22.64%', '13.84%', '16.59%',\n",
       "       '17.19%', '12.87%', '20.69%', '9.67%', '21.82%', '19.79%',\n",
       "       '18.49%', '22.94%', '24.59%', '24.40%', '21.48%', '14.82%',\n",
       "       '14.17%', '7.29%', '17.88%', '20.11%', '16.02%', '17.51%',\n",
       "       '13.43%', '14.91%', '13.06%', '15.28%', '15.65%', '17.14%',\n",
       "       '11.11%', '10.37%', '16.40%', '7.66%', '10.00%', '18.62%',\n",
       "       '10.74%', '5.79%', '6.92%', '9.63%', '14.54%', '12.68%', '19.36%',\n",
       "       '13.80%', '18.99%', '21.59%', '20.85%', '21.22%', '19.74%',\n",
       "       '20.48%', '6.91%', '12.23%', '12.61%', '10.36%', '6.17%', '6.54%',\n",
       "       '9.25%', '16.69%', '15.95%', '8.88%', '13.35%', '9.62%', '16.32%',\n",
       "       '12.98%', '14.83%', '13.72%', '14.09%', '14.46%', '20.03%',\n",
       "       '17.80%', '15.20%', '15.57%', '18.54%', '19.66%', '17.06%',\n",
       "       '18.17%', '17.43%', '20.40%', '20.77%', '18.91%', '21.14%',\n",
       "       '17.44%', '13.23%', '7.88%', '11.12%', '13.61%', '10.38%',\n",
       "       '17.56%', '17.93%', '15.58%', '13.98%', '14.84%', '15.21%',\n",
       "       '6.76%', '6.39%', '11.86%', '7.14%', '14.35%', '16.82%', '10.75%',\n",
       "       '14.72%', '16.45%', '18.67%', '20.53%', '19.41%', '20.16%',\n",
       "       '21.27%', '18.30%', '19.04%', '20.90%', '21.64%', '12.73%',\n",
       "       '10.25%', '13.11%', '10.62%', '13.48%', '14.59%', '16.07%',\n",
       "       '15.70%', '9.88%', '11.36%', '15.33%', '13.85%', '14.96%',\n",
       "       '14.22%', '7.74%', '13.22%', '13.57%', '8.59%', '17.04%', '14.61%',\n",
       "       '8.94%', '12.18%', '11.83%', '11.48%', '16.35%', '13.92%',\n",
       "       '15.31%', '14.26%', '19.13%', '12.53%', '16.70%', '16.00%',\n",
       "       '17.39%', '18.09%', '7.40%', '18.43%', '17.74%', '7.05%', '20.52%',\n",
       "       '20.86%', '19.47%', '18.78%', '21.21%', '19.82%', '20.17%',\n",
       "       '13.16%', '8.00%', '13.47%', '12.21%', '16.63%', '9.32%', '12.84%',\n",
       "       '11.26%', '15.68%', '15.37%', '10.95%', '11.89%', '14.11%',\n",
       "       '13.79%', '7.68%', '11.58%', '7.37%', '16.95%', '15.05%', '18.53%',\n",
       "       '14.74%', '14.42%', '18.21%', '17.26%', '18.84%', '17.90%',\n",
       "       '19.16%', '13.67%', '9.38%', '12.72%', '13.36%', '11.46%',\n",
       "       '10.51%', '9.07%', '13.04%', '11.78%', '12.41%', '10.83%',\n",
       "       '12.09%', '17.46%', '14.30%', '17.15%', '15.25%', '10.20%',\n",
       "       '15.88%', '14.93%', '16.20%', '18.72%', '14.62%', '8.32%',\n",
       "       '14.12%', '10.96%', '10.33%', '10.01%', '12.86%', '11.28%',\n",
       "       '11.59%', '8.63%', '12.54%', '12.22%', '11.91%', '15.38%',\n",
       "       '16.96%', '13.17%', '9.70%', '16.33%', '14.75%', '15.07%',\n",
       "       '16.01%', '10.71%', '10.64%', '9.76%', '11.34%', '10.39%',\n",
       "       '13.87%', '11.03%', '11.66%', '13.24%', '10.08%', '9.45%',\n",
       "       '13.55%', '12.29%', '11.97%', '12.92%', '15.45%', '14.50%',\n",
       "       '14.18%', '15.13%', '16.08%', '15.76%', '17.03%', '17.34%',\n",
       "       '16.71%', '9.83%', '13.62%', '10.46%', '9.51%', '9.20%', '13.30%',\n",
       "       '10.78%', '7.75%', '8.38%', '12.36%', '12.67%', '11.72%', '13.93%',\n",
       "       '8.07%', '7.43%', '12.04%', '14.25%', '14.88%', '11.41%', '11.09%',\n",
       "       '10.14%', '16.15%', '15.83%', '7.12%', '18.36%', '9.64%', '9.96%',\n",
       "       '11.22%', '9.01%', '9.33%', '11.54%', '12.17%', '12.80%', '14.38%',\n",
       "       '13.75%', '14.70%', '12.49%', '14.07%', '10.91%', '13.12%',\n",
       "       '10.28%', '8.70%', '14.67%', '15.01%'], dtype=object)"
      ]
     },
     "execution_count": 124,
     "metadata": {},
     "output_type": "execute_result"
    }
   ],
   "source": [
    "# checking for unique value in term column\n",
    "filtered_loan_df['int_rate'].unique()"
   ]
  },
  {
   "cell_type": "code",
   "execution_count": 125,
   "id": "ea1cc1e3-7452-479d-831a-0270a601be8c",
   "metadata": {},
   "outputs": [],
   "source": [
    "# replacing % sign from the column\n",
    "filtered_loan_df['int_rate'] = filtered_loan_df['int_rate'].str.replace('%', '')"
   ]
  },
  {
   "cell_type": "code",
   "execution_count": 126,
   "id": "58bdc195-da83-436a-a607-48b9bf286ac8",
   "metadata": {},
   "outputs": [],
   "source": [
    "#converting type of column for calculation purpose\n",
    "filtered_loan_df['int_rate'] = filtered_loan_df['int_rate'].astype(float)"
   ]
  },
  {
   "cell_type": "markdown",
   "id": "ac9656ef-b5ab-4718-9519-c9b408d55483",
   "metadata": {},
   "source": [
    "### column: emp_length --> for how long borrower is working"
   ]
  },
  {
   "cell_type": "code",
   "execution_count": 127,
   "id": "4071c409-e09f-46e5-910a-20f8d3bd656b",
   "metadata": {},
   "outputs": [
    {
     "data": {
      "text/plain": [
       "array(['10+ years', '< 1 year', '1 year', '3 years', '8 years', '9 years',\n",
       "       '4 years', '5 years', '6 years', '2 years', '7 years', nan],\n",
       "      dtype=object)"
      ]
     },
     "execution_count": 127,
     "metadata": {},
     "output_type": "execute_result"
    }
   ],
   "source": [
    "# checking for unique value in term column\n",
    "filtered_loan_df['emp_length'].unique()"
   ]
  },
  {
   "cell_type": "code",
   "execution_count": 128,
   "id": "7139cd9a-bef0-4d9d-8ec3-3cb26bdff8d0",
   "metadata": {},
   "outputs": [],
   "source": [
    "# replacing `year` and `years` from column\n",
    "filtered_loan_df['emp_length'] = filtered_loan_df['emp_length'].str.replace(' years', '').str.replace(' year', '')"
   ]
  },
  {
   "cell_type": "code",
   "execution_count": 129,
   "id": "c9435737-dba1-43d3-9cd4-374ced008e6c",
   "metadata": {},
   "outputs": [],
   "source": [
    "# replacing `< ` and `+` from column\n",
    "filtered_loan_df['emp_length'] = filtered_loan_df['emp_length'].str.replace('+', '').str.replace('< ', '')"
   ]
  },
  {
   "cell_type": "code",
   "execution_count": 130,
   "id": "00cd30c4-bbcb-4053-a46e-4993617796cf",
   "metadata": {},
   "outputs": [],
   "source": [
    "# filling nan values with -1 value for ease and understanding\n",
    "filtered_loan_df['emp_length'] = filtered_loan_df['emp_length'].fillna(-1)"
   ]
  },
  {
   "cell_type": "code",
   "execution_count": 131,
   "id": "86216c06-faf9-487f-b8e3-b7fd1055430c",
   "metadata": {},
   "outputs": [],
   "source": [
    "#converting type of column for calculation purpose\n",
    "filtered_loan_df['emp_length'] = filtered_loan_df['emp_length'].astype(int)"
   ]
  },
  {
   "cell_type": "code",
   "execution_count": 132,
   "id": "e6db751a-e3b8-465f-9b84-dcf21df5e448",
   "metadata": {},
   "outputs": [
    {
     "data": {
      "text/plain": [
       "array([10,  1,  3,  8,  9,  4,  5,  6,  2,  7, -1])"
      ]
     },
     "execution_count": 132,
     "metadata": {},
     "output_type": "execute_result"
    }
   ],
   "source": [
    "filtered_loan_df['emp_length'].unique()"
   ]
  },
  {
   "cell_type": "markdown",
   "id": "1c9862e3-6b63-4956-9917-d6051d7eeb25",
   "metadata": {},
   "source": [
    "### column: issue_d --> on which month the loan was given"
   ]
  },
  {
   "cell_type": "code",
   "execution_count": 133,
   "id": "020277a8-f064-4f58-af9e-794b6188233b",
   "metadata": {},
   "outputs": [
    {
     "data": {
      "text/plain": [
       "array(['Dec-11', 'Nov-11', 'Oct-11', 'Sep-11', 'Aug-11', 'Jul-11',\n",
       "       'Jun-11', 'May-11', 'Apr-11', 'Mar-11', 'Feb-11', 'Jan-11',\n",
       "       'Dec-10', 'Nov-10', 'Oct-10', 'Sep-10', 'Aug-10', 'Jul-10',\n",
       "       'Jun-10', 'May-10', 'Apr-10', 'Mar-10', 'Feb-10', 'Jan-10',\n",
       "       'Dec-09', 'Nov-09', 'Oct-09', 'Sep-09', 'Aug-09', 'Jul-09',\n",
       "       'Jun-09', 'May-09', 'Apr-09', 'Mar-09', 'Feb-09', 'Jan-09',\n",
       "       'Dec-08', 'Nov-08', 'Oct-08', 'Sep-08', 'Aug-08', 'Jul-08',\n",
       "       'Jun-08', 'May-08', 'Apr-08', 'Mar-08', 'Feb-08', 'Jan-08',\n",
       "       'Dec-07', 'Nov-07', 'Oct-07', 'Sep-07', 'Aug-07', 'Jul-07',\n",
       "       'Jun-07'], dtype=object)"
      ]
     },
     "execution_count": 133,
     "metadata": {},
     "output_type": "execute_result"
    }
   ],
   "source": [
    "#checking for unique value\n",
    "filtered_loan_df['issue_d'].unique()"
   ]
  },
  {
   "cell_type": "code",
   "execution_count": 134,
   "id": "cef50a95-7709-4014-b09f-d9535ce80420",
   "metadata": {},
   "outputs": [],
   "source": [
    "#converting to datetime format\n",
    "filtered_loan_df['issue_d'] = pd.to_datetime(filtered_loan_df['issue_d'], format= '%b-%y')"
   ]
  },
  {
   "cell_type": "code",
   "execution_count": 135,
   "id": "43c9456a-7b84-47bf-8ecc-d4f5bc551de3",
   "metadata": {},
   "outputs": [
    {
     "data": {
      "text/plain": [
       "<DatetimeArray>\n",
       "['2011-12-01 00:00:00', '2011-11-01 00:00:00', '2011-10-01 00:00:00',\n",
       " '2011-09-01 00:00:00', '2011-08-01 00:00:00', '2011-07-01 00:00:00',\n",
       " '2011-06-01 00:00:00', '2011-05-01 00:00:00', '2011-04-01 00:00:00',\n",
       " '2011-03-01 00:00:00', '2011-02-01 00:00:00', '2011-01-01 00:00:00',\n",
       " '2010-12-01 00:00:00', '2010-11-01 00:00:00', '2010-10-01 00:00:00',\n",
       " '2010-09-01 00:00:00', '2010-08-01 00:00:00', '2010-07-01 00:00:00',\n",
       " '2010-06-01 00:00:00', '2010-05-01 00:00:00', '2010-04-01 00:00:00',\n",
       " '2010-03-01 00:00:00', '2010-02-01 00:00:00', '2010-01-01 00:00:00',\n",
       " '2009-12-01 00:00:00', '2009-11-01 00:00:00', '2009-10-01 00:00:00',\n",
       " '2009-09-01 00:00:00', '2009-08-01 00:00:00', '2009-07-01 00:00:00',\n",
       " '2009-06-01 00:00:00', '2009-05-01 00:00:00', '2009-04-01 00:00:00',\n",
       " '2009-03-01 00:00:00', '2009-02-01 00:00:00', '2009-01-01 00:00:00',\n",
       " '2008-12-01 00:00:00', '2008-11-01 00:00:00', '2008-10-01 00:00:00',\n",
       " '2008-09-01 00:00:00', '2008-08-01 00:00:00', '2008-07-01 00:00:00',\n",
       " '2008-06-01 00:00:00', '2008-05-01 00:00:00', '2008-04-01 00:00:00',\n",
       " '2008-03-01 00:00:00', '2008-02-01 00:00:00', '2008-01-01 00:00:00',\n",
       " '2007-12-01 00:00:00', '2007-11-01 00:00:00', '2007-10-01 00:00:00',\n",
       " '2007-09-01 00:00:00', '2007-08-01 00:00:00', '2007-07-01 00:00:00',\n",
       " '2007-06-01 00:00:00']\n",
       "Length: 55, dtype: datetime64[ns]"
      ]
     },
     "execution_count": 135,
     "metadata": {},
     "output_type": "execute_result"
    }
   ],
   "source": [
    "#checking the result\n",
    "filtered_loan_df['issue_d'].unique()"
   ]
  },
  {
   "cell_type": "markdown",
   "id": "bb74c61d-672a-4528-bf5f-6214b4530ebf",
   "metadata": {},
   "source": [
    "### column: earliest_cr_line --> on which month the first credit line was open"
   ]
  },
  {
   "cell_type": "code",
   "execution_count": 136,
   "id": "1f48c646-12e3-4588-8d36-bd14ebb5bbbe",
   "metadata": {},
   "outputs": [
    {
     "data": {
      "text/plain": [
       "array(['Jan-85', 'Apr-99', 'Nov-01', 'Feb-96', 'Jan-96', 'Nov-04',\n",
       "       'Jul-05', 'Jan-07', 'Apr-04', 'Sep-04', 'Jan-98', 'Oct-89',\n",
       "       'Jul-03', 'May-91', 'Sep-07', 'Oct-98', 'Aug-93', 'Oct-03',\n",
       "       'Jan-01', 'Nov-97', 'Feb-83', 'Jul-85', 'Apr-03', 'Jun-01',\n",
       "       'Feb-02', 'Aug-84', 'Nov-06', 'Dec-87', 'Nov-81', 'Feb-97',\n",
       "       'Apr-05', 'Oct-07', 'Dec-00', 'Apr-07', 'Dec-01', 'Jan-03',\n",
       "       'Mar-94', 'Sep-98', 'Jun-04', 'Nov-95', 'Jul-99', 'Jun-95',\n",
       "       'Sep-92', 'Jan-02', 'Apr-92', 'Oct-06', 'May-00', 'Dec-98',\n",
       "       'Dec-04', 'Oct-00', 'May-02', 'May-06', 'Jul-02', 'Jul-06',\n",
       "       'May-97', 'Oct-05', 'Apr-95', 'Oct-02', 'Jan-00', 'Apr-00',\n",
       "       'Dec-94', 'Sep-05', 'Dec-84', 'Dec-99', 'Nov-03', 'Jun-89',\n",
       "       'Jun-03', 'Oct-96', 'May-03', 'Jun-02', 'Jun-07', 'Dec-96',\n",
       "       'Feb-84', 'Sep-02', 'Jan-86', 'May-98', 'Jan-97', 'Jun-05',\n",
       "       'Feb-90', 'Mar-04', 'Jul-95', 'Aug-94', 'Jun-92', 'Mar-97',\n",
       "       'Apr-06', 'Apr-90', 'Aug-99', 'Sep-00', 'Feb-01', 'Dec-88',\n",
       "       'Feb-99', 'Dec-91', 'Aug-00', 'Oct-04', 'Aug-04', 'Feb-05',\n",
       "       'Nov-05', 'Nov-00', 'May-07', 'Jan-91', 'Jun-00', 'Aug-06',\n",
       "       'Dec-02', 'Jun-93', 'Jun-06', 'Feb-04', 'Dec-90', 'Mar-00',\n",
       "       'Feb-95', 'Jul-01', 'Apr-02', 'Sep-06', 'May-99', 'Aug-98',\n",
       "       'Dec-05', 'May-04', 'Oct-01', 'Jun-83', 'Mar-86', 'Apr-80',\n",
       "       'Jul-04', 'Jul-08', 'May-96', 'Jan-04', 'Nov-02', 'Aug-02',\n",
       "       'Aug-01', 'Mar-91', 'Sep-89', 'Sep-94', 'Sep-03', 'Sep-99',\n",
       "       'Aug-05', 'Dec-86', 'Nov-98', 'Feb-06', 'May-94', 'Nov-07',\n",
       "       'Feb-93', 'Nov-91', 'May-05', 'Dec-73', 'May-01', 'Mar-90',\n",
       "       'Mar-96', 'Oct-79', 'Jun-81', 'Mar-01', 'Apr-01', 'Jun-99',\n",
       "       'Nov-93', 'Jan-06', 'Dec-97', 'Nov-94', 'Jul-97', 'Oct-91',\n",
       "       'Jun-94', 'Mar-06', 'Sep-96', 'Apr-91', 'Jul-93', 'Jan-95',\n",
       "       'Sep-87', 'Mar-03', 'Oct-99', 'Jul-96', 'Dec-03', 'Aug-88',\n",
       "       'Jan-92', 'Mar-98', 'Feb-07', 'Aug-82', 'Mar-95', 'Dec-92',\n",
       "       'Jul-98', 'Jul-89', 'May-90', 'Jul-94', 'Sep-01', 'Mar-84',\n",
       "       'Aug-03', 'Nov-99', 'Mar-07', 'Mar-08', 'Apr-94', 'Jan-05',\n",
       "       'Jul-86', 'Aug-90', 'May-92', 'Jul-00', 'Mar-88', 'May-83',\n",
       "       'Apr-93', 'Jul-78', 'Feb-00', 'Dec-81', 'Mar-92', 'Jan-81',\n",
       "       'Sep-90', 'Jun-98', 'May-93', 'Nov-96', 'Mar-02', 'Jan-88',\n",
       "       'Aug-97', 'Aug-87', 'Aug-08', 'Oct-94', 'Oct-86', 'Feb-94',\n",
       "       'Jun-96', 'Feb-98', 'Nov-08', 'Apr-98', 'Jul-79', 'Jan-93',\n",
       "       'May-87', 'Jul-71', 'Aug-07', 'Jun-97', 'Mar-80', 'Dec-06',\n",
       "       'Jul-07', 'Oct-95', 'Jul-91', 'Jul-92', 'Dec-72', 'Dec-93',\n",
       "       'Jan-99', 'Feb-03', 'Apr-97', 'Dec-95', 'Apr-96', 'Jul-90',\n",
       "       'Mar-70', 'Nov-84', 'Apr-84', 'Jul-84', 'Aug-95', 'Mar-99',\n",
       "       'Sep-88', 'Mar-89', 'Mar-87', 'Oct-97', 'Dec-80', 'Jan-94',\n",
       "       'Sep-95', 'Mar-05', 'Jan-89', 'Feb-92', 'Jan-90', 'Nov-90',\n",
       "       'Mar-69', 'Jun-75', 'Mar-85', 'Dec-07', 'Oct-93', 'Dec-89',\n",
       "       'Sep-80', 'Jun-88', 'May-78', 'Apr-73', 'Aug-89', 'Oct-90',\n",
       "       'Sep-91', 'Feb-82', 'Feb-87', 'Nov-85', 'Jan-84', 'Jul-88',\n",
       "       'May-08', 'Oct-85', 'Mar-83', 'Aug-91', 'Sep-86', 'Jun-90',\n",
       "       'Feb-86', 'Sep-97', 'Jun-84', 'Sep-81', 'Apr-86', 'Aug-79',\n",
       "       'Aug-80', 'Nov-92', 'Sep-93', 'Jun-87', 'Sep-82', 'Aug-92',\n",
       "       'Aug-85', 'Jul-83', 'Jun-91', 'Dec-83', 'Jan-87', 'Nov-78',\n",
       "       'Oct-84', 'Aug-96', 'Nov-89', 'Sep-76', 'Nov-86', 'Oct-87',\n",
       "       'Sep-08', 'May-77', 'May-86', 'Mar-81', 'Jan-83', 'Nov-76',\n",
       "       'Sep-79', 'Oct-83', 'Sep-62', 'Jun-85', 'May-82', 'Feb-88',\n",
       "       'Oct-92', 'Aug-83', 'Jun-73', 'Apr-85', 'Oct-88', 'Oct-81',\n",
       "       'Sep-68', 'Jul-74', 'Nov-87', 'May-95', 'Feb-91', 'Nov-88',\n",
       "       'Mar-93', 'Jun-08', 'Jul-80', 'Dec-82', 'Mar-75', 'Feb-80',\n",
       "       'Apr-88', 'Dec-79', 'Sep-85', 'Sep-71', 'Mar-78', 'Feb-08',\n",
       "       'Aug-78', 'Nov-70', 'Jun-79', 'Jun-80', 'Apr-89', 'Sep-83',\n",
       "       'Feb-89', 'Nov-83', 'Jun-86', 'Oct-82', 'Aug-86', 'Oct-80',\n",
       "       'May-88', 'Dec-85', 'Jan-82', 'Sep-77', 'Dec-76', 'Apr-82',\n",
       "       'May-84', 'Apr-08', 'Feb-79', 'Jan-08', 'Sep-64', 'Jul-87',\n",
       "       'Jan-78', 'May-89', 'Oct-77', 'Dec-75', 'Feb-85', 'Oct-08',\n",
       "       'Nov-82', 'May-75', 'May-85', 'Feb-71', 'Jun-77', 'Apr-81',\n",
       "       'May-79', 'Jan-72', 'Sep-67', 'Apr-78', 'Feb-65', 'Apr-83',\n",
       "       'Nov-75', 'Jun-67', 'Mar-74', 'Jul-72', 'Aug-67', 'Apr-71',\n",
       "       'Sep-84', 'May-81', 'Dec-70', 'Oct-73', 'Jan-71', 'Dec-63',\n",
       "       'Apr-74', 'Jan-80', 'Aug-69', 'Apr-75', 'Jul-77', 'Mar-77',\n",
       "       'Nov-69', 'Jan-76', 'Mar-82', 'Apr-87', 'Dec-69', 'May-74',\n",
       "       'Aug-74', 'Jun-72', 'Mar-63', 'Nov-79', 'Aug-75', 'Sep-74',\n",
       "       'Aug-81', 'May-73', 'Sep-73', 'Mar-73', 'Dec-77', 'Oct-76',\n",
       "       'Jan-74', 'Jan-70', 'Aug-68', 'Feb-76', 'Jan-75', 'Oct-72',\n",
       "       'Dec-74', 'Feb-73', 'Nov-65', 'Mar-72', 'Jun-82', 'Jun-74',\n",
       "       'May-65', 'Jun-71', 'Oct-70', 'Apr-76', 'Oct-71', 'Apr-77',\n",
       "       'Sep-78', 'Oct-78', 'Oct-54', 'Feb-81', 'Jan-77', 'Aug-77',\n",
       "       'Dec-78', 'Aug-76', 'Jun-68', 'Jun-78', 'Jun-69', 'May-80',\n",
       "       'Jan-79', 'Oct-65', 'Nov-74', 'Apr-66', 'Jun-76', 'Feb-72',\n",
       "       'May-76', 'Mar-68', 'Mar-76', 'Jul-70', 'Mar-79', 'Jul-76',\n",
       "       'Jul-82', 'Sep-65', 'Apr-67', 'Oct-63', 'Feb-70', 'Jul-73',\n",
       "       'Feb-78', 'Nov-71', 'Aug-72', 'Jul-75', 'Sep-70', 'Jul-81',\n",
       "       'Oct-64', 'Sep-72', 'May-70', 'May-63', 'Feb-69', 'Nov-80',\n",
       "       'Jul-67', 'Apr-70', 'Nov-77', 'Nov-66', 'May-71', 'Apr-79',\n",
       "       'May-72', 'Feb-68', 'Jul-64', 'Nov-67', 'Apr-64', 'Feb-75',\n",
       "       'Jun-59', 'Sep-56', 'Jun-66', 'Jan-46', 'Mar-66', 'Jan-63',\n",
       "       'Dec-50', 'Jul-69', 'Jan-68', 'Nov-73', 'Jun-70', 'Feb-77',\n",
       "       'Feb-74', 'Jan-73', 'Feb-66', 'Dec-61', 'Aug-73', 'Aug-70',\n",
       "       'Sep-69', 'Sep-75', 'Dec-68', 'Nov-54', 'Oct-69', 'Dec-65',\n",
       "       'Apr-72', 'Nov-72', 'Sep-63', 'Apr-69', 'Nov-62', 'Oct-67',\n",
       "       'May-67', 'Nov-61', 'Feb-67', 'Nov-68', 'Oct-75', 'Mar-71',\n",
       "       'Aug-71', 'Dec-66', 'Oct-68', 'Oct-74'], dtype=object)"
      ]
     },
     "execution_count": 136,
     "metadata": {},
     "output_type": "execute_result"
    }
   ],
   "source": [
    "#checking for unique value\n",
    "filtered_loan_df['earliest_cr_line'].unique()"
   ]
  },
  {
   "cell_type": "code",
   "execution_count": 137,
   "id": "a009b667-d506-4d37-98b7-d7f6813bc391",
   "metadata": {},
   "outputs": [],
   "source": [
    "#converting to datetime format\n",
    "filtered_loan_df['earliest_cr_line'] = pd.to_datetime(filtered_loan_df['earliest_cr_line'], format= '%b-%y')"
   ]
  },
  {
   "cell_type": "code",
   "execution_count": 138,
   "id": "d9f4ba39-dd88-4b6c-b529-5d7c7ad27213",
   "metadata": {},
   "outputs": [],
   "source": [
    "# Correct the century for years between 1900-1999\n",
    "filtered_loan_df['earliest_cr_line'] = filtered_loan_df['earliest_cr_line'].apply(\n",
    "    lambda x: x if x.year >= 2000 else x.replace(year=x.year - 100))"
   ]
  },
  {
   "cell_type": "code",
   "execution_count": 139,
   "id": "fd11c58d-3dbf-4eed-84e8-245c18200434",
   "metadata": {},
   "outputs": [],
   "source": [
    "#checking the result\n",
    "#filtered_loan_df['earliest_cr_line'].unique()"
   ]
  },
  {
   "cell_type": "markdown",
   "id": "c845bf58-0754-4056-8b43-51b07afcd711",
   "metadata": {},
   "source": [
    "### column: desc --> description given by borrower why loan has been taken"
   ]
  },
  {
   "cell_type": "code",
   "execution_count": 140,
   "id": "ffe9ee9e-65e4-4979-ac5c-ffd3989eb2b8",
   "metadata": {},
   "outputs": [
    {
     "data": {
      "text/plain": [
       "array(['  Borrower added on 12/22/11 > I need to upgrade my business technologies.<br>',\n",
       "       '  Borrower added on 12/22/11 > I plan to use this money to finance the motorcycle i am looking at. I plan to have it paid off as soon as possible/when i sell my old bike. I only need this money because the deal im looking at is to good to pass up.<br><br>  Borrower added on 12/22/11 > I plan to use this money to finance the motorcycle i am looking at. I plan to have it paid off as soon as possible/when i sell my old bike.I only need this money because the deal im looking at is to good to pass up. I have finished college with an associates degree in business and its takingmeplaces<br>',\n",
       "       nan, ...,\n",
       "       'Our current gutter system on our home is old and in need of repair.    We will be using the borrowed funds to replace the gutter system on our home.',\n",
       "       'The rate of interest and fees incurred by carrying a balance on my credit card are so outrageous at this point that continuing to pay them is patently bad financial thinking.  I wish to redirect my efforts at retiring my debt via another more-reasonable means.    I have sufficient funds to direct to this end on a monthly basis, and have simply gotten tired of their being gobbled up by interest and fees.',\n",
       "       'I plan to consolidate over $7,000 of debt: a combination of credit cards and student loans.'],\n",
       "      dtype=object)"
      ]
     },
     "execution_count": 140,
     "metadata": {},
     "output_type": "execute_result"
    }
   ],
   "source": [
    "#checking for unique value\n",
    "filtered_loan_df['desc'].unique()"
   ]
  },
  {
   "cell_type": "code",
   "execution_count": 141,
   "id": "fea4a1cf-9865-416c-b019-3065f0cb4654",
   "metadata": {},
   "outputs": [],
   "source": [
    "# filling nan with `borrower donot give any description` for better understanding\n",
    "filtered_loan_df['desc'] = filtered_loan_df['desc'].fillna('borrower didnot give any description')"
   ]
  },
  {
   "cell_type": "markdown",
   "id": "6101c23b-cad6-4db4-82ec-5f0e4b87e30a",
   "metadata": {},
   "source": [
    "### column: purpose --> purpose as described by the lender company"
   ]
  },
  {
   "cell_type": "code",
   "execution_count": 142,
   "id": "06f5029d-6aad-4032-af3b-675c070d598e",
   "metadata": {},
   "outputs": [
    {
     "data": {
      "text/plain": [
       "array(['credit_card', 'car', 'small_business', 'other', 'wedding',\n",
       "       'debt_consolidation', 'home_improvement', 'major_purchase',\n",
       "       'medical', 'moving', 'vacation', 'house', 'renewable_energy',\n",
       "       'educational'], dtype=object)"
      ]
     },
     "execution_count": 142,
     "metadata": {},
     "output_type": "execute_result"
    }
   ],
   "source": [
    "#checking for unique value\n",
    "filtered_loan_df['purpose'].unique()"
   ]
  },
  {
   "cell_type": "markdown",
   "id": "cf04460b-e623-4bff-bf56-c097799ac685",
   "metadata": {},
   "source": [
    "### column:  title --> title given by lender company"
   ]
  },
  {
   "cell_type": "code",
   "execution_count": 143,
   "id": "f443c52e-e0a8-4034-8c55-326d0cd52dc7",
   "metadata": {},
   "outputs": [
    {
     "data": {
      "text/plain": [
       "array(['Computer', 'bike', 'real estate business', ...,\n",
       "       'Retiring credit card debt', 'MBA Loan Consolidation', 'JAL Loan'],\n",
       "      dtype=object)"
      ]
     },
     "execution_count": 143,
     "metadata": {},
     "output_type": "execute_result"
    }
   ],
   "source": [
    "#checking for unique value\n",
    "filtered_loan_df['title'].unique()"
   ]
  },
  {
   "cell_type": "code",
   "execution_count": 144,
   "id": "b82e8277-b2d8-4a2d-b5d5-5f7b00b7f7e0",
   "metadata": {},
   "outputs": [
    {
     "data": {
      "text/plain": [
       "11"
      ]
     },
     "execution_count": 144,
     "metadata": {},
     "output_type": "execute_result"
    }
   ],
   "source": [
    "# checking for number of null values\n",
    "filtered_loan_df['title'].isnull().sum()"
   ]
  },
  {
   "cell_type": "code",
   "execution_count": 145,
   "id": "ecf215c9-210d-4508-ad00-ea4084ecdf0e",
   "metadata": {},
   "outputs": [],
   "source": [
    "# filling nan with `no title given` for better understanding\n",
    "filtered_loan_df['title'] = filtered_loan_df['title'].fillna('no title given')"
   ]
  },
  {
   "cell_type": "markdown",
   "id": "cbc60d07-5e20-4b93-8f00-556623cb308e",
   "metadata": {},
   "source": [
    "### column: zip_code --> address zipcode"
   ]
  },
  {
   "cell_type": "code",
   "execution_count": 146,
   "id": "ab3be201-512a-40a5-bdf5-cd5ce3cb1a18",
   "metadata": {},
   "outputs": [
    {
     "data": {
      "text/plain": [
       "array(['860xx', '309xx', '606xx', '917xx', '972xx', '852xx', '280xx',\n",
       "       '900xx', '958xx', '774xx', '853xx', '913xx', '245xx', '951xx',\n",
       "       '641xx', '921xx', '067xx', '890xx', '770xx', '335xx', '799xx',\n",
       "       '605xx', '103xx', '150xx', '326xx', '564xx', '141xx', '080xx',\n",
       "       '330xx', '974xx', '934xx', '405xx', '946xx', '445xx', '850xx',\n",
       "       '604xx', '292xx', '088xx', '180xx', '029xx', '700xx', '010xx',\n",
       "       '441xx', '104xx', '061xx', '616xx', '947xx', '914xx', '765xx',\n",
       "       '980xx', '017xx', '752xx', '787xx', '077xx', '540xx', '225xx',\n",
       "       '440xx', '437xx', '559xx', '912xx', '325xx', '300xx', '923xx',\n",
       "       '352xx', '013xx', '146xx', '074xx', '786xx', '937xx', '331xx',\n",
       "       '115xx', '191xx', '114xx', '908xx', '902xx', '992xx', '750xx',\n",
       "       '950xx', '329xx', '226xx', '614xx', '802xx', '672xx', '083xx',\n",
       "       '100xx', '926xx', '931xx', '712xx', '060xx', '707xx', '342xx',\n",
       "       '895xx', '430xx', '919xx', '996xx', '891xx', '935xx', '801xx',\n",
       "       '928xx', '233xx', '927xx', '970xx', '211xx', '303xx', '070xx',\n",
       "       '194xx', '263xx', '403xx', '301xx', '553xx', '993xx', '312xx',\n",
       "       '432xx', '602xx', '216xx', '151xx', '971xx', '305xx', '334xx',\n",
       "       '050xx', '129xx', '925xx', '483xx', '760xx', '961xx', '200xx',\n",
       "       '085xx', '981xx', '601xx', '117xx', '063xx', '920xx', '543xx',\n",
       "       '775xx', '570xx', '038xx', '221xx', '985xx', '113xx', '275xx',\n",
       "       '236xx', '148xx', '028xx', '450xx', '532xx', '729xx', '321xx',\n",
       "       '959xx', '941xx', '955xx', '217xx', '880xx', '660xx', '062xx',\n",
       "       '193xx', '761xx', '857xx', '306xx', '271xx', '142xx', '956xx',\n",
       "       '983xx', '945xx', '109xx', '112xx', '187xx', '630xx', '435xx',\n",
       "       '488xx', '287xx', '705xx', '592xx', '318xx', '549xx', '212xx',\n",
       "       '347xx', '274xx', '265xx', '785xx', '027xx', '089xx', '813xx',\n",
       "       '069xx', '260xx', '201xx', '349xx', '322xx', '075xx', '124xx',\n",
       "       '940xx', '967xx', '111xx', '773xx', '997xx', '076xx', '538xx',\n",
       "       '021xx', '304xx', '234xx', '308xx', '809xx', '071xx', '363xx',\n",
       "       '296xx', '240xx', '830xx', '011xx', '622xx', '207xx', '140xx',\n",
       "       '336xx', '619xx', '208xx', '618xx', '014xx', '644xx', '283xx',\n",
       "       '276xx', '631xx', '243xx', '960xx', '181xx', '922xx', '224xx',\n",
       "       '975xx', '105xx', '986xx', '218xx', '652xx', '782xx', '410xx',\n",
       "       '480xx', '328xx', '719xx', '982xx', '065xx', '081xx', '954xx',\n",
       "       '346xx', '442xx', '025xx', '122xx', '173xx', '282xx', '120xx',\n",
       "       '082xx', '766xx', '229xx', '840xx', '744xx', '933xx', '451xx',\n",
       "       '907xx', '728xx', '159xx', '333xx', '293xx', '701xx', '984xx',\n",
       "       '811xx', '597xx', '957xx', '165xx', '720xx', '119xx', '359xx',\n",
       "       '195xx', '084xx', '969xx', '924xx', '531xx', '716xx', '337xx',\n",
       "       '841xx', '323xx', '740xx', '179xx', '805xx', '285xx', '551xx',\n",
       "       '658xx', '944xx', '232xx', '905xx', '600xx', '327xx', '711xx',\n",
       "       '906xx', '444xx', '856xx', '777xx', '072xx', '554xx', '145xx',\n",
       "       '537xx', '152xx', '847xx', '295xx', '829xx', '320xx', '131xx',\n",
       "       '939xx', '572xx', '281xx', '064xx', '550xx', '078xx', '452xx',\n",
       "       '778xx', '313xx', '851xx', '784xx', '804xx', '571xx', '210xx',\n",
       "       '988xx', '400xx', '995xx', '023xx', '158xx', '657xx', '016xx',\n",
       "       '019xx', '290xx', '190xx', '366xx', '066xx', '991xx', '968xx',\n",
       "       '721xx', '439xx', '640xx', '546xx', '024xx', '751xx', '431xx',\n",
       "       '741xx', '904xx', '156xx', '316xx', '299xx', '087xx', '739xx',\n",
       "       '949xx', '261xx', '073xx', '222xx', '244xx', '617xx', '018xx',\n",
       "       '286xx', '759xx', '952xx', '930xx', '911xx', '220xx', '731xx',\n",
       "       '730xx', '262xx', '338xx', '160xx', '031xx', '054xx', '223xx',\n",
       "       '272xx', '882xx', '557xx', '797xx', '725xx', '130xx', '030xx',\n",
       "       '206xx', '324xx', '170xx', '291xx', '161xx', '647xx', '916xx',\n",
       "       '665xx', '209xx', '915xx', '110xx', '086xx', '484xx', '844xx',\n",
       "       '020xx', '354xx', '448xx', '978xx', '757xx', '953xx', '577xx',\n",
       "       '315xx', '664xx', '186xx', '182xx', '574xx', '800xx', '197xx',\n",
       "       '137xx', '314xx', '755xx', '973xx', '603xx', '481xx', '780xx',\n",
       "       '894xx', '341xx', '361xx', '178xx', '068xx', '565xx', '611xx',\n",
       "       '288xx', '443xx', '662xx', '874xx', '560xx', '535xx', '499xx',\n",
       "       '162xx', '756xx', '168xx', '827xx', '541xx', '615xx', '989xx',\n",
       "       '037xx', '863xx', '339xx', '367xx', '273xx', '052xx', '623xx',\n",
       "       '416xx', '648xx', '918xx', '436xx', '898xx', '674xx', '496xx',\n",
       "       '294xx', '762xx', '128xx', '903xx', '932xx', '650xx', '246xx',\n",
       "       '633xx', '666xx', '228xx', '015xx', '302xx', '573xx', '118xx',\n",
       "       '998xx', '767xx', '490xx', '350xx', '591xx', '254xx', '566xx',\n",
       "       '596xx', '637xx', '032xx', '763xx', '494xx', '402xx', '545xx',\n",
       "       '184xx', '239xx', '977xx', '297xx', '284xx', '144xx', '748xx',\n",
       "       '310xx', '147xx', '153xx', '544xx', '948xx', '576xx', '976xx',\n",
       "       '107xx', '846xx', '344xx', '351xx', '754xx', '910xx', '656xx',\n",
       "       '357xx', '791xx', '493xx', '855xx', '278xx', '125xx', '175xx',\n",
       "       '530xx', '171xx', '703xx', '620xx', '438xx', '626xx', '307xx',\n",
       "       '636xx', '319xx', '116xx', '645xx', '708xx', '816xx', '625xx',\n",
       "       '133xx', '612xx', '238xx', '166xx', '231xx', '241xx', '826xx',\n",
       "       '783xx', '793xx', '646xx', '188xx', '108xx', '653xx', '871xx',\n",
       "       '057xx', '796xx', '990xx', '219xx', '724xx', '456xx', '214xx',\n",
       "       '237xx', '737xx', '121xx', '199xx', '548xx', '453xx', '704xx',\n",
       "       '368xx', '828xx', '598xx', '136xx', '610xx', '433xx', '722xx',\n",
       "       '743xx', '810xx', '706xx', '235xx', '139xx', '613xx', '454xx',\n",
       "       '317xx', '746xx', '446xx', '486xx', '033xx', '279xx', '407xx',\n",
       "       '803xx', '794xx', '457xx', '189xx', '196xx', '539xx', '424xx',\n",
       "       '492xx', '482xx', '667xx', '845xx', '608xx', '401xx', '362xx',\n",
       "       '627xx', '717xx', '356xx', '607xx', '963xx', '198xx', '936xx',\n",
       "       '713xx', '227xx', '883xx', '563xx', '893xx', '079xx', '806xx',\n",
       "       '360xx', '172xx', '422xx', '768xx', '034xx', '735xx', '870xx',\n",
       "       '012xx', '594xx', '215xx', '628xx', '749xx', '101xx', '814xx',\n",
       "       '255xx', '745xx', '495xx', '132xx', '183xx', '864xx', '106xx',\n",
       "       '663xx', '943xx', '094xx', '177xx', '365xx', '897xx', '776xx',\n",
       "       '843xx', '458xx', '421xx', '253xx', '795xx', '727xx', '528xx',\n",
       "       '270xx', '808xx', '277xx', '447xx', '358xx', '815xx', '250xx',\n",
       "       '230xx', '790xx', '884xx', '242xx', '534xx', '404xx', '397xx',\n",
       "       '434xx', '671xx', '655xx', '675xx', '053xx', '859xx', '126xx',\n",
       "       '102xx', '256xx', '673xx', '489xx', '258xx', '423xx', '497xx',\n",
       "       '788xx', '127xx', '176xx', '380xx', '058xx', '635xx', '498xx',\n",
       "       '820xx', '599xx', '822xx', '638xx', '723xx', '449xx', '420xx',\n",
       "       '157xx', '726xx', '185xx', '527xx', '298xx', '769xx', '257xx',\n",
       "       '881xx', '575xx', '624xx', '134xx', '877xx', '781xx', '718xx',\n",
       "       '670xx', '138xx', '026xx', '678xx', '398xx', '411xx', '149xx',\n",
       "       '247xx', '875xx', '838xx', '651xx', '364xx', '203xx', '427xx',\n",
       "       '629xx', '355xx', '174xx', '547xx', '567xx', '558xx', '135xx',\n",
       "       '035xx', '999xx', '634xx', '455xx', '143xx', '154xx', '562xx',\n",
       "       '779xx', '561xx', '734xx', '789xx', '812xx', '268xx', '051xx',\n",
       "       '865xx', '406xx', '661xx', '758xx', '676xx', '491xx', '267xx',\n",
       "       '609xx', '595xx', '259xx', '163xx', '264xx', '409xx', '376xx',\n",
       "       '471xx', '375xx', '747xx', '123xx', '714xx', '590xx', '639xx',\n",
       "       '412xx', '425xx', '022xx', '369xx', '164xx', '825xx', '266xx',\n",
       "       '096xx', '487xx', '251xx', '593xx', '169xx', '413xx', '155xx',\n",
       "       '764xx', '710xx', '408xx', '668xx', '056xx', '669xx', '167xx',\n",
       "       '542xx', '679xx', '462xx', '792xx', '824xx', '249xx', '798xx',\n",
       "       '370xx', '485xx', '654xx', '289xx', '807xx', '252xx', '556xx',\n",
       "       '353xx', '677xx', '090xx', '371xx', '831xx', '736xx', '007xx',\n",
       "       '332xx', '468xx', '461xx', '093xx', '248xx', '463xx', '391xx',\n",
       "       '381xx', '415xx', '378xx', '414xx', '396xx', '836xx', '044xx',\n",
       "       '392xx', '772xx', '374xx', '823xx', '395xx', '394xx', '965xx',\n",
       "       '390xx', '388xx', '386xx', '040xx', '385xx', '379xx', '681xx',\n",
       "       '837xx', '373xx', '753xx', '834xx', '383xx', '384xx', '372xx',\n",
       "       '833xx', '522xx', '523xx', '474xx', '465xx', '689xx', '473xx',\n",
       "       '041xx', '685xx', '479xx', '469xx'], dtype=object)"
      ]
     },
     "execution_count": 146,
     "metadata": {},
     "output_type": "execute_result"
    }
   ],
   "source": [
    "#checking for unique value\n",
    "filtered_loan_df['zip_code'].unique()"
   ]
  },
  {
   "cell_type": "code",
   "execution_count": 147,
   "id": "b97b3268-b91b-4c7f-bc28-99680de1d128",
   "metadata": {},
   "outputs": [],
   "source": [
    "# removing 'xx' from zip code\n",
    "filtered_loan_df['zip_code'] = filtered_loan_df['zip_code'].str.replace('xx', '')"
   ]
  },
  {
   "cell_type": "code",
   "execution_count": 148,
   "id": "e5ffa4ca-532b-4c4c-8587-e4efd8aaa455",
   "metadata": {},
   "outputs": [],
   "source": [
    "# converting to int type\n",
    "filtered_loan_df['zip_code'] = filtered_loan_df['zip_code'].astype(int)"
   ]
  },
  {
   "cell_type": "markdown",
   "id": "cc8b1e28-b4d2-4784-8999-d1f0bb5960d4",
   "metadata": {},
   "source": [
    "### column: emp_title --> employee designation of the borrower"
   ]
  },
  {
   "cell_type": "code",
   "execution_count": 149,
   "id": "9869352f-375c-482b-aa8b-40ad4517b5cc",
   "metadata": {},
   "outputs": [
    {
     "data": {
      "text/plain": [
       "2459"
      ]
     },
     "execution_count": 149,
     "metadata": {},
     "output_type": "execute_result"
    }
   ],
   "source": [
    "#checking number of null values\n",
    "filtered_loan_df['emp_title'].isnull().sum()"
   ]
  },
  {
   "cell_type": "code",
   "execution_count": 150,
   "id": "f6c07ff6-2050-4ce6-bea9-2d49bf69f8be",
   "metadata": {},
   "outputs": [],
   "source": [
    "# converting nan with `either not working or self employed` for better understanding\n",
    "filtered_loan_df['emp_title'] = filtered_loan_df['emp_title'].fillna('either not working or self employed')"
   ]
  },
  {
   "cell_type": "markdown",
   "id": "7f6656cb-0a20-450e-8ff6-6c7d91c7b724",
   "metadata": {},
   "source": [
    "### column: mths_since_last_delinq --> month when last deliquency has been done by borrower "
   ]
  },
  {
   "cell_type": "code",
   "execution_count": 151,
   "id": "ed0a6f34-cd64-4eb7-bfe1-5b0573b3c912",
   "metadata": {},
   "outputs": [
    {
     "data": {
      "text/plain": [
       "array([ nan,  35.,  38.,  61.,   8.,  20.,  18.,  68.,  45.,  48.,  41.,\n",
       "        40.,  74.,  25.,  53.,  39.,  10.,  26.,  56.,  77.,  28.,  52.,\n",
       "        24.,  16.,  60.,  54.,  23.,   9.,  11.,  13.,  65.,  19.,  80.,\n",
       "        22.,  59.,  79.,  44.,  64.,  57.,  14.,  63.,  49.,  15.,  73.,\n",
       "        70.,  29.,  51.,   5.,  75.,  55.,   2.,  30.,  47.,  33.,  69.,\n",
       "         4.,  43.,  21.,  27.,  46.,  81.,  78.,  82.,  31.,  76.,  62.,\n",
       "        72.,  42.,  50.,   3.,  12.,  67.,  36.,  34.,  58.,  17.,  71.,\n",
       "        66.,  32.,   6.,  37.,   7.,   1.,  83.,  86., 115.,  96., 103.,\n",
       "       120., 106.,  89., 107.,  85.,  97.,  95.,   0.])"
      ]
     },
     "execution_count": 151,
     "metadata": {},
     "output_type": "execute_result"
    }
   ],
   "source": [
    "filtered_loan_df['mths_since_last_delinq'].unique()"
   ]
  },
  {
   "cell_type": "code",
   "execution_count": 152,
   "id": "1d3ee103-6bf5-4232-959c-736d10783520",
   "metadata": {},
   "outputs": [],
   "source": [
    "# giving value of -1 for better understanding and later will help in plotting too\n",
    "filtered_loan_df['mths_since_last_delinq']= filtered_loan_df['mths_since_last_delinq'].fillna(-1)"
   ]
  },
  {
   "cell_type": "code",
   "execution_count": 153,
   "id": "2786b23f-89c3-4d9d-9999-05ae5daaf526",
   "metadata": {},
   "outputs": [],
   "source": [
    "#converting column to int\n",
    "filtered_loan_df['mths_since_last_delinq'] = filtered_loan_df['mths_since_last_delinq'].astype(int)"
   ]
  },
  {
   "cell_type": "markdown",
   "id": "4aac3df5-5fc6-4cef-aa74-df348f82502a",
   "metadata": {},
   "source": [
    "### column: mths_since_last_record --> month since last public record"
   ]
  },
  {
   "cell_type": "code",
   "execution_count": 154,
   "id": "636115ed-91cf-4f41-84ae-a57a1f22f881",
   "metadata": {},
   "outputs": [
    {
     "data": {
      "text/plain": [
       "array([ nan, 113., 105.,  97.,  33.,  93.,  52.,  85.,  90.,  91., 114.,\n",
       "        92., 117.,  87.,  45.,  83., 118.,  38., 101., 100., 112., 110.,\n",
       "        88.,  79.,  77., 107., 102.,  98.,  95., 103.,  96., 116., 111.,\n",
       "        89., 108.,  29., 106., 115.,  53.,  86.,  57.,  63.,  94., 109.,\n",
       "        99., 104.,  76.,  61.,  28.,  23.,  75.,  47.,  82.,  21.,  62.,\n",
       "        44.,  80.,  67., 119.,  42.,  34.,  66.,  58.,  22.,  56.,  72.,\n",
       "        64.,  50.,  69.,  49.,  74.,  35.,  12.,  26.,  78.,  54.,  37.,\n",
       "        73.,  11.,  31.,  59.,  32.,  81.,  68.,  55.,  39.,  51.,  70.,\n",
       "        30.,  41.,  71.,  40.,  43.,  27.,  65.,  46.,  19.,  17.,  25.,\n",
       "        13.,  48.,  36.,   7.,  60.,  14.,   6.,  18.,   0.,  20., 120.,\n",
       "       129.,   5.])"
      ]
     },
     "execution_count": 154,
     "metadata": {},
     "output_type": "execute_result"
    }
   ],
   "source": [
    "# checking unique value\n",
    "filtered_loan_df['mths_since_last_record'].unique()"
   ]
  },
  {
   "cell_type": "code",
   "execution_count": 155,
   "id": "b0c3257e-7468-4b36-98ba-c959dd9bee80",
   "metadata": {},
   "outputs": [],
   "source": [
    "# filling `-1` in nan value for our understanding meaning no past bad public record\n",
    "filtered_loan_df['mths_since_last_record'] = filtered_loan_df['mths_since_last_record'].fillna(-1)"
   ]
  },
  {
   "cell_type": "code",
   "execution_count": 156,
   "id": "8c3153d1-74be-43aa-91a5-6ff0fbbadb1a",
   "metadata": {},
   "outputs": [],
   "source": [
    "#converting column to int\n",
    "filtered_loan_df['mths_since_last_record'] = filtered_loan_df['mths_since_last_record'].astype(int)"
   ]
  },
  {
   "cell_type": "markdown",
   "id": "79840a12-418c-4511-8f90-1928efe233ed",
   "metadata": {},
   "source": [
    "### column: revol_util --> what % of revol balance is the borrower using"
   ]
  },
  {
   "cell_type": "code",
   "execution_count": 157,
   "id": "c8fe181c-534c-454f-946d-daea35bf7813",
   "metadata": {},
   "outputs": [
    {
     "data": {
      "text/plain": [
       "array(['83.70%', '9.40%', '98.50%', ..., '49.63%', '0.04%', '7.28%'],\n",
       "      dtype=object)"
      ]
     },
     "execution_count": 157,
     "metadata": {},
     "output_type": "execute_result"
    }
   ],
   "source": [
    "# checking unique value\n",
    "filtered_loan_df['revol_util'].unique()"
   ]
  },
  {
   "cell_type": "code",
   "execution_count": 158,
   "id": "16d1a75c-5b4d-4ef6-a034-a69d447d860d",
   "metadata": {},
   "outputs": [
    {
     "data": {
      "text/plain": [
       "50"
      ]
     },
     "execution_count": 158,
     "metadata": {},
     "output_type": "execute_result"
    }
   ],
   "source": [
    "#checking nan value\n",
    "filtered_loan_df['revol_util'].isnull().sum()"
   ]
  },
  {
   "cell_type": "code",
   "execution_count": 159,
   "id": "643f23bb-31be-4f92-b722-88d2c763f695",
   "metadata": {},
   "outputs": [],
   "source": [
    "# removing % from column\n",
    "filtered_loan_df['revol_util'] = filtered_loan_df['revol_util'].str.replace('%','')"
   ]
  },
  {
   "cell_type": "code",
   "execution_count": 160,
   "id": "a1f5104b-a786-4413-8a23-a574678eda00",
   "metadata": {},
   "outputs": [],
   "source": [
    "#fill nan with -1 for our ease\n",
    "filtered_loan_df['revol_util'] = filtered_loan_df['revol_util'].fillna(-1)"
   ]
  },
  {
   "cell_type": "code",
   "execution_count": 161,
   "id": "b6255dff-6661-4933-b5eb-d2b1e6f67e89",
   "metadata": {},
   "outputs": [],
   "source": [
    "# converting column to float\n",
    "filtered_loan_df['revol_util'] = filtered_loan_df['revol_util'].astype(float)"
   ]
  },
  {
   "cell_type": "code",
   "execution_count": 162,
   "id": "8db116b1-e488-48ac-9f97-050a9b7e97e6",
   "metadata": {},
   "outputs": [],
   "source": [
    "#renaming `revol_util` column to `revol_util in %` for better understanding\n",
    "filtered_loan_df.rename(columns = {'revol_util' : 'revol_util in %'},  inplace= True)"
   ]
  },
  {
   "cell_type": "markdown",
   "id": "cca7e623-5cae-41ce-b006-b34c2588f173",
   "metadata": {},
   "source": [
    "### column: last_pymnt_d --> when was the last installment was given"
   ]
  },
  {
   "cell_type": "code",
   "execution_count": 163,
   "id": "9c5e3ce1-9745-4ba9-9701-12775c3100fd",
   "metadata": {},
   "outputs": [],
   "source": [
    "filtered_loan_df['last_pymnt_d'] = pd.to_datetime(filtered_loan_df['last_pymnt_d'], format= '%b-%y')"
   ]
  },
  {
   "cell_type": "code",
   "execution_count": 164,
   "id": "cb49c16a-a69b-47fe-829d-e58ed98b2400",
   "metadata": {},
   "outputs": [
    {
     "data": {
      "text/plain": [
       "array(['Charged Off'], dtype=object)"
      ]
     },
     "execution_count": 164,
     "metadata": {},
     "output_type": "execute_result"
    }
   ],
   "source": [
    "# checking the loan status for the rows that have last_pymt_d as nan\n",
    "filtered_loan_df[(filtered_loan_df['last_pymnt_d'].isna())]['loan_status'].unique()"
   ]
  },
  {
   "cell_type": "code",
   "execution_count": 165,
   "id": "a212c170-894d-451f-bf9d-3f3e0aa50a16",
   "metadata": {},
   "outputs": [],
   "source": [
    "#converting to datetime\n",
    "filtered_loan_df['last_pymnt_d'] = pd.to_datetime(filtered_loan_df['last_pymnt_d'], format= '%b-%y')"
   ]
  },
  {
   "cell_type": "code",
   "execution_count": 166,
   "id": "4ef447eb-29ea-4d6e-ad34-d638cae32638",
   "metadata": {},
   "outputs": [],
   "source": [
    "# since all of the null values are already charged off we can give them -1 for our understanding\n",
    "filtered_loan_df['last_pymnt_d']= filtered_loan_df['last_pymnt_d'].fillna(-1)"
   ]
  },
  {
   "cell_type": "markdown",
   "id": "d3b69663-7b6f-4250-8258-182efe4d608d",
   "metadata": {},
   "source": [
    "### column: next_pymnt_d --> when is the next payment due"
   ]
  },
  {
   "cell_type": "code",
   "execution_count": 167,
   "id": "25105265-0ad2-4da3-8a20-0c764ce0677a",
   "metadata": {},
   "outputs": [
    {
     "data": {
      "text/plain": [
       "array(['Fully Paid', 'Charged Off'], dtype=object)"
      ]
     },
     "execution_count": 167,
     "metadata": {},
     "output_type": "execute_result"
    }
   ],
   "source": [
    "# checking the loan status for the rows that have next_pymt_d as nan\n",
    "filtered_loan_df[(filtered_loan_df['next_pymnt_d'].isna())]['loan_status'].unique()"
   ]
  },
  {
   "cell_type": "code",
   "execution_count": 168,
   "id": "6400f717-b89a-46b5-bc18-02a3277e2df7",
   "metadata": {},
   "outputs": [],
   "source": [
    "#converting to datetime\n",
    "filtered_loan_df['next_pymnt_d'] = pd.to_datetime(filtered_loan_df['next_pymnt_d'], format= '%b-%y')"
   ]
  },
  {
   "cell_type": "code",
   "execution_count": 169,
   "id": "7ba4699e-8262-48eb-a130-91c077505077",
   "metadata": {},
   "outputs": [],
   "source": [
    "# since all of the null values are already charged off or fully paid we can give them -1 for our understanding\n",
    "filtered_loan_df['next_pymnt_d']= filtered_loan_df['next_pymnt_d'].fillna(-1)"
   ]
  },
  {
   "cell_type": "markdown",
   "id": "b0287a5e-7621-41c4-a24b-7ad9a5279f4e",
   "metadata": {},
   "source": [
    "### column: last_credit_pull_d --> when is the last credit was pulled"
   ]
  },
  {
   "cell_type": "code",
   "execution_count": 170,
   "id": "e67f4bee-9c41-49b6-8339-4b3325d53144",
   "metadata": {},
   "outputs": [
    {
     "data": {
      "text/html": [
       "<div>\n",
       "<style scoped>\n",
       "    .dataframe tbody tr th:only-of-type {\n",
       "        vertical-align: middle;\n",
       "    }\n",
       "\n",
       "    .dataframe tbody tr th {\n",
       "        vertical-align: top;\n",
       "    }\n",
       "\n",
       "    .dataframe thead th {\n",
       "        text-align: right;\n",
       "    }\n",
       "</style>\n",
       "<table border=\"1\" class=\"dataframe\">\n",
       "  <thead>\n",
       "    <tr style=\"text-align: right;\">\n",
       "      <th></th>\n",
       "      <th>id</th>\n",
       "      <th>member_id</th>\n",
       "      <th>loan_amnt</th>\n",
       "      <th>funded_amnt</th>\n",
       "      <th>funded_amnt_inv</th>\n",
       "      <th>term in months</th>\n",
       "      <th>int_rate</th>\n",
       "      <th>installment</th>\n",
       "      <th>grade</th>\n",
       "      <th>sub_grade</th>\n",
       "      <th>emp_title</th>\n",
       "      <th>emp_length</th>\n",
       "      <th>home_ownership</th>\n",
       "      <th>annual_inc</th>\n",
       "      <th>verification_status</th>\n",
       "      <th>issue_d</th>\n",
       "      <th>loan_status</th>\n",
       "      <th>pymnt_plan</th>\n",
       "      <th>url</th>\n",
       "      <th>desc</th>\n",
       "      <th>purpose</th>\n",
       "      <th>title</th>\n",
       "      <th>zip_code</th>\n",
       "      <th>addr_state</th>\n",
       "      <th>dti</th>\n",
       "      <th>delinq_2yrs</th>\n",
       "      <th>earliest_cr_line</th>\n",
       "      <th>inq_last_6mths</th>\n",
       "      <th>mths_since_last_delinq</th>\n",
       "      <th>mths_since_last_record</th>\n",
       "      <th>open_acc</th>\n",
       "      <th>pub_rec</th>\n",
       "      <th>revol_bal</th>\n",
       "      <th>revol_util in %</th>\n",
       "      <th>total_acc</th>\n",
       "      <th>initial_list_status</th>\n",
       "      <th>out_prncp</th>\n",
       "      <th>out_prncp_inv</th>\n",
       "      <th>total_pymnt</th>\n",
       "      <th>total_pymnt_inv</th>\n",
       "      <th>total_rec_prncp</th>\n",
       "      <th>total_rec_int</th>\n",
       "      <th>total_rec_late_fee</th>\n",
       "      <th>recoveries</th>\n",
       "      <th>collection_recovery_fee</th>\n",
       "      <th>last_pymnt_d</th>\n",
       "      <th>last_pymnt_amnt</th>\n",
       "      <th>next_pymnt_d</th>\n",
       "      <th>last_credit_pull_d</th>\n",
       "      <th>collections_12_mths_ex_med</th>\n",
       "      <th>policy_code</th>\n",
       "      <th>application_type</th>\n",
       "      <th>acc_now_delinq</th>\n",
       "      <th>chargeoff_within_12_mths</th>\n",
       "      <th>delinq_amnt</th>\n",
       "      <th>pub_rec_bankruptcies</th>\n",
       "      <th>tax_liens</th>\n",
       "    </tr>\n",
       "  </thead>\n",
       "  <tbody>\n",
       "    <tr>\n",
       "      <th>26025</th>\n",
       "      <td>575712</td>\n",
       "      <td>740467</td>\n",
       "      <td>5000</td>\n",
       "      <td>5000</td>\n",
       "      <td>5000.0</td>\n",
       "      <td>36</td>\n",
       "      <td>11.12</td>\n",
       "      <td>163.98</td>\n",
       "      <td>B</td>\n",
       "      <td>B3</td>\n",
       "      <td>either not working or self employed</td>\n",
       "      <td>5</td>\n",
       "      <td>RENT</td>\n",
       "      <td>96000.0</td>\n",
       "      <td>Not Verified</td>\n",
       "      <td>2010-09-01</td>\n",
       "      <td>Charged Off</td>\n",
       "      <td>n</td>\n",
       "      <td>https://lendingclub.com/browse/loanDetail.acti...</td>\n",
       "      <td>borrower didnot give any description</td>\n",
       "      <td>small_business</td>\n",
       "      <td>for my toy business</td>\n",
       "      <td>900</td>\n",
       "      <td>CA</td>\n",
       "      <td>4.04</td>\n",
       "      <td>0</td>\n",
       "      <td>1897-10-01</td>\n",
       "      <td>0</td>\n",
       "      <td>-1</td>\n",
       "      <td>-1</td>\n",
       "      <td>4</td>\n",
       "      <td>0</td>\n",
       "      <td>7172</td>\n",
       "      <td>80.6</td>\n",
       "      <td>9</td>\n",
       "      <td>f</td>\n",
       "      <td>0.0</td>\n",
       "      <td>0.0</td>\n",
       "      <td>3362.960000</td>\n",
       "      <td>3362.96</td>\n",
       "      <td>2553.55</td>\n",
       "      <td>702.45</td>\n",
       "      <td>0.0</td>\n",
       "      <td>106.96</td>\n",
       "      <td>1.34</td>\n",
       "      <td>2012-06-01 00:00:00</td>\n",
       "      <td>163.98</td>\n",
       "      <td>-1</td>\n",
       "      <td>NaN</td>\n",
       "      <td>0.0</td>\n",
       "      <td>1</td>\n",
       "      <td>INDIVIDUAL</td>\n",
       "      <td>0</td>\n",
       "      <td>0.0</td>\n",
       "      <td>0</td>\n",
       "      <td>0.0</td>\n",
       "      <td>0.0</td>\n",
       "    </tr>\n",
       "    <tr>\n",
       "      <th>39476</th>\n",
       "      <td>186499</td>\n",
       "      <td>186347</td>\n",
       "      <td>1000</td>\n",
       "      <td>1000</td>\n",
       "      <td>875.0</td>\n",
       "      <td>36</td>\n",
       "      <td>7.12</td>\n",
       "      <td>30.94</td>\n",
       "      <td>A</td>\n",
       "      <td>A1</td>\n",
       "      <td>either not working or self employed</td>\n",
       "      <td>1</td>\n",
       "      <td>MORTGAGE</td>\n",
       "      <td>120000.0</td>\n",
       "      <td>Not Verified</td>\n",
       "      <td>2007-12-01</td>\n",
       "      <td>Fully Paid</td>\n",
       "      <td>n</td>\n",
       "      <td>https://lendingclub.com/browse/loanDetail.acti...</td>\n",
       "      <td>No more then 25$ per lender. Please read the r...</td>\n",
       "      <td>other</td>\n",
       "      <td>Research On Global Warming</td>\n",
       "      <td>941</td>\n",
       "      <td>CA</td>\n",
       "      <td>0.65</td>\n",
       "      <td>0</td>\n",
       "      <td>1897-07-01</td>\n",
       "      <td>1</td>\n",
       "      <td>0</td>\n",
       "      <td>0</td>\n",
       "      <td>7</td>\n",
       "      <td>0</td>\n",
       "      <td>2227</td>\n",
       "      <td>3.8</td>\n",
       "      <td>37</td>\n",
       "      <td>f</td>\n",
       "      <td>0.0</td>\n",
       "      <td>0.0</td>\n",
       "      <td>1110.813028</td>\n",
       "      <td>971.96</td>\n",
       "      <td>1000.00</td>\n",
       "      <td>110.81</td>\n",
       "      <td>0.0</td>\n",
       "      <td>0.00</td>\n",
       "      <td>0.00</td>\n",
       "      <td>2010-08-01 00:00:00</td>\n",
       "      <td>185.80</td>\n",
       "      <td>-1</td>\n",
       "      <td>NaN</td>\n",
       "      <td>0.0</td>\n",
       "      <td>1</td>\n",
       "      <td>INDIVIDUAL</td>\n",
       "      <td>0</td>\n",
       "      <td>0.0</td>\n",
       "      <td>0</td>\n",
       "      <td>NaN</td>\n",
       "      <td>0.0</td>\n",
       "    </tr>\n",
       "  </tbody>\n",
       "</table>\n",
       "</div>"
      ],
      "text/plain": [
       "           id  member_id  loan_amnt  funded_amnt  funded_amnt_inv  \\\n",
       "26025  575712     740467       5000         5000           5000.0   \n",
       "39476  186499     186347       1000         1000            875.0   \n",
       "\n",
       "       term in months  int_rate  installment grade sub_grade  \\\n",
       "26025              36     11.12       163.98     B        B3   \n",
       "39476              36      7.12        30.94     A        A1   \n",
       "\n",
       "                                 emp_title  emp_length home_ownership  \\\n",
       "26025  either not working or self employed           5           RENT   \n",
       "39476  either not working or self employed           1       MORTGAGE   \n",
       "\n",
       "       annual_inc verification_status    issue_d  loan_status pymnt_plan  \\\n",
       "26025     96000.0        Not Verified 2010-09-01  Charged Off          n   \n",
       "39476    120000.0        Not Verified 2007-12-01   Fully Paid          n   \n",
       "\n",
       "                                                     url  \\\n",
       "26025  https://lendingclub.com/browse/loanDetail.acti...   \n",
       "39476  https://lendingclub.com/browse/loanDetail.acti...   \n",
       "\n",
       "                                                    desc         purpose  \\\n",
       "26025               borrower didnot give any description  small_business   \n",
       "39476  No more then 25$ per lender. Please read the r...           other   \n",
       "\n",
       "                            title  zip_code addr_state   dti  delinq_2yrs  \\\n",
       "26025         for my toy business       900         CA  4.04            0   \n",
       "39476  Research On Global Warming       941         CA  0.65            0   \n",
       "\n",
       "      earliest_cr_line  inq_last_6mths  mths_since_last_delinq  \\\n",
       "26025       1897-10-01               0                      -1   \n",
       "39476       1897-07-01               1                       0   \n",
       "\n",
       "       mths_since_last_record  open_acc  pub_rec  revol_bal  revol_util in %  \\\n",
       "26025                      -1         4        0       7172             80.6   \n",
       "39476                       0         7        0       2227              3.8   \n",
       "\n",
       "       total_acc initial_list_status  out_prncp  out_prncp_inv  total_pymnt  \\\n",
       "26025          9                   f        0.0            0.0  3362.960000   \n",
       "39476         37                   f        0.0            0.0  1110.813028   \n",
       "\n",
       "       total_pymnt_inv  total_rec_prncp  total_rec_int  total_rec_late_fee  \\\n",
       "26025          3362.96          2553.55         702.45                 0.0   \n",
       "39476           971.96          1000.00         110.81                 0.0   \n",
       "\n",
       "       recoveries  collection_recovery_fee         last_pymnt_d  \\\n",
       "26025      106.96                     1.34  2012-06-01 00:00:00   \n",
       "39476        0.00                     0.00  2010-08-01 00:00:00   \n",
       "\n",
       "       last_pymnt_amnt next_pymnt_d last_credit_pull_d  \\\n",
       "26025           163.98           -1                NaN   \n",
       "39476           185.80           -1                NaN   \n",
       "\n",
       "       collections_12_mths_ex_med  policy_code application_type  \\\n",
       "26025                         0.0            1       INDIVIDUAL   \n",
       "39476                         0.0            1       INDIVIDUAL   \n",
       "\n",
       "       acc_now_delinq  chargeoff_within_12_mths  delinq_amnt  \\\n",
       "26025               0                       0.0            0   \n",
       "39476               0                       0.0            0   \n",
       "\n",
       "       pub_rec_bankruptcies  tax_liens  \n",
       "26025                   0.0        0.0  \n",
       "39476                   NaN        0.0  "
      ]
     },
     "execution_count": 170,
     "metadata": {},
     "output_type": "execute_result"
    }
   ],
   "source": [
    "filtered_loan_df[filtered_loan_df['last_credit_pull_d'].isna()]"
   ]
  },
  {
   "cell_type": "code",
   "execution_count": 171,
   "id": "525a1000-0cc2-452d-a5f1-eca2302a14bf",
   "metadata": {},
   "outputs": [
    {
     "data": {
      "text/plain": [
       "array(['May-16', 'Sep-13', 'Apr-16', 'Jan-16', 'Dec-14', 'Aug-12',\n",
       "       'Mar-13', 'Dec-15', 'Aug-13', 'Nov-12', 'Mar-14', 'Apr-15',\n",
       "       'May-14', 'Jul-15', 'Feb-16', 'Mar-16', 'Sep-12', 'May-13',\n",
       "       'Jan-15', 'Jun-12', 'Mar-15', 'Dec-12', 'Sep-14', 'Feb-14',\n",
       "       'Jun-15', 'Oct-13', 'Apr-14', 'Oct-14', 'Feb-13', 'Nov-15',\n",
       "       'Jul-14', 'Sep-15', 'Oct-12', 'Nov-13', 'Nov-14', 'Feb-12',\n",
       "       'Oct-15', 'Apr-12', 'Aug-15', 'Jun-14', 'Jan-12', 'Aug-14',\n",
       "       'Jun-13', 'Dec-13', 'May-12', 'Jul-12', 'Jan-14', 'Jul-13',\n",
       "       'Apr-13', 'May-15', 'Feb-15', 'Mar-12', 'Nov-11', 'Dec-11',\n",
       "       'Jan-13', 'Oct-11', 'Sep-11', 'Aug-11', 'Jul-11', 'Jun-11',\n",
       "       'May-11', 'Apr-11', 'Mar-11', 'Feb-11', 'Jan-11', 'Dec-10',\n",
       "       'Nov-10', 'Oct-10', nan, 'Sep-10', 'Aug-10', 'Jul-10', 'Jun-10',\n",
       "       'May-10', 'Apr-10', 'Feb-10', 'Mar-10', 'Aug-07', 'Jan-10',\n",
       "       'Dec-09', 'Nov-09', 'Oct-09', 'Sep-09', 'Jul-09', 'Aug-09',\n",
       "       'May-09', 'Jun-09', 'Apr-09', 'Mar-09', 'Feb-09', 'Jan-09',\n",
       "       'Dec-08', 'Jun-08', 'Sep-08', 'May-08', 'Aug-08', 'Mar-08',\n",
       "       'Oct-08', 'Feb-08', 'Jan-08', 'Dec-07', 'Jul-08', 'Oct-07',\n",
       "       'Sep-07', 'Jun-07', 'May-07', 'Jul-07'], dtype=object)"
      ]
     },
     "execution_count": 171,
     "metadata": {},
     "output_type": "execute_result"
    }
   ],
   "source": [
    "filtered_loan_df['last_credit_pull_d'].unique()"
   ]
  },
  {
   "cell_type": "markdown",
   "id": "435c9b52-00de-49a7-964d-0a902ea51559",
   "metadata": {},
   "source": [
    "### column: collections_12_mths_ex_med --> recovery after charged off after 12 months"
   ]
  },
  {
   "cell_type": "code",
   "execution_count": 172,
   "id": "a0c35340-9936-4e85-80d3-ff2f5f096ba7",
   "metadata": {},
   "outputs": [
    {
     "data": {
      "text/plain": [
       "array([ 0., nan])"
      ]
     },
     "execution_count": 172,
     "metadata": {},
     "output_type": "execute_result"
    }
   ],
   "source": [
    "#checking unique value\n",
    "filtered_loan_df['collections_12_mths_ex_med'].unique()"
   ]
  },
  {
   "cell_type": "markdown",
   "id": "2fe7f5dc-ef7c-4e61-b2b2-6307a9c91546",
   "metadata": {},
   "source": [
    "### we can drop this column as not adding any value to our data"
   ]
  },
  {
   "cell_type": "markdown",
   "id": "193f9aab-b2ec-4c0a-84b4-bcf3b2b95a9f",
   "metadata": {},
   "source": [
    "### column: pub_rec_bankruptcies --> if any record of bankruptcies"
   ]
  },
  {
   "cell_type": "code",
   "execution_count": 173,
   "id": "944cad0c-f775-4b5c-a78b-c5d96113739a",
   "metadata": {},
   "outputs": [
    {
     "data": {
      "text/plain": [
       "array([ 0.,  1.,  2., nan])"
      ]
     },
     "execution_count": 173,
     "metadata": {},
     "output_type": "execute_result"
    }
   ],
   "source": [
    "#checking unique value\n",
    "filtered_loan_df['pub_rec_bankruptcies'].unique()"
   ]
  },
  {
   "cell_type": "code",
   "execution_count": 174,
   "id": "a4bea3de-c38b-42c2-bfea-e903d95a61d1",
   "metadata": {},
   "outputs": [],
   "source": [
    "#  fillling -1 for nan to better understanding\n",
    "filtered_loan_df['pub_rec_bankruptcies'] = filtered_loan_df['pub_rec_bankruptcies'].fillna(-1)"
   ]
  },
  {
   "cell_type": "markdown",
   "id": "51427daf-2624-4e8c-81a8-7bb04836f281",
   "metadata": {},
   "source": [
    "### column: chargeoff_within_12_mths --> recovery after charged off within 12 months"
   ]
  },
  {
   "cell_type": "code",
   "execution_count": 175,
   "id": "299d4ba0-fd2c-4ede-ad18-cd078b468be9",
   "metadata": {},
   "outputs": [
    {
     "data": {
      "text/plain": [
       "array([ 0., nan])"
      ]
     },
     "execution_count": 175,
     "metadata": {},
     "output_type": "execute_result"
    }
   ],
   "source": [
    "#checking unique value\n",
    "filtered_loan_df['chargeoff_within_12_mths'].unique()"
   ]
  },
  {
   "cell_type": "markdown",
   "id": "4b03c9ff-b900-4c9c-a9b0-4171e3df779e",
   "metadata": {},
   "source": [
    "### column: tax_liens -->  any number of tax liens by government"
   ]
  },
  {
   "cell_type": "code",
   "execution_count": 176,
   "id": "1e1702cc-ace2-43ba-9275-8ddf5b8efa40",
   "metadata": {},
   "outputs": [
    {
     "data": {
      "text/plain": [
       "array([ 0., nan])"
      ]
     },
     "execution_count": 176,
     "metadata": {},
     "output_type": "execute_result"
    }
   ],
   "source": [
    "#checking unique value\n",
    "filtered_loan_df['tax_liens'].unique()"
   ]
  },
  {
   "cell_type": "markdown",
   "id": "7cc9080e-56c9-43cd-a257-780c8a3f3649",
   "metadata": {},
   "source": [
    "### column: `acc_now_delinq`"
   ]
  },
  {
   "cell_type": "code",
   "execution_count": 177,
   "id": "5a2ace4e-d0b6-432b-b0fb-f885b1bd9ae4",
   "metadata": {},
   "outputs": [
    {
     "data": {
      "text/plain": [
       "array([0], dtype=int64)"
      ]
     },
     "execution_count": 177,
     "metadata": {},
     "output_type": "execute_result"
    }
   ],
   "source": [
    "#checking unique value\n",
    "filtered_loan_df['acc_now_delinq'].unique()"
   ]
  },
  {
   "cell_type": "code",
   "execution_count": 178,
   "id": "6aa70372-0902-4c9e-b363-2ca7c55db32b",
   "metadata": {},
   "outputs": [],
   "source": [
    "#we can drop these columns that have all 0 value as not adding any value to our data"
   ]
  },
  {
   "cell_type": "code",
   "execution_count": 179,
   "id": "e1f7fadf-4901-44a7-93c1-0cbe28857999",
   "metadata": {},
   "outputs": [],
   "source": [
    "#dropping column that are not adding any value\n",
    "filtered_loan_df = filtered_loan_df.drop(columns= ['tax_liens', 'chargeoff_within_12_mths', 'collections_12_mths_ex_med', 'acc_now_delinq'])"
   ]
  },
  {
   "cell_type": "markdown",
   "id": "66bce3fd-455a-4a97-ad06-a487cd1173f9",
   "metadata": {},
   "source": [
    "### Column : `initial_list_status`"
   ]
  },
  {
   "cell_type": "code",
   "execution_count": 180,
   "id": "a11439e5-dc20-4e65-b1bf-8ced551460bb",
   "metadata": {},
   "outputs": [],
   "source": [
    "#dropping this column as all have the same value hence initial_list_status\n",
    "filtered_loan_df = filtered_loan_df.drop(columns= ['initial_list_status'])"
   ]
  },
  {
   "cell_type": "code",
   "execution_count": 181,
   "id": "7b608140-adf2-4d85-ab17-d9e47e3ee399",
   "metadata": {},
   "outputs": [],
   "source": [
    "# resetting the index\n",
    "filtered_loan_df.reset_index(drop= True, inplace= True)"
   ]
  },
  {
   "cell_type": "markdown",
   "id": "1d3a0b2d-bb12-40e6-826b-4dbd230b6da4",
   "metadata": {},
   "source": [
    "# Visual Analysis"
   ]
  },
  {
   "cell_type": "markdown",
   "id": "51f075bf-c578-45a8-afff-8a7878dc5845",
   "metadata": {},
   "source": [
    "### Defining a `is_defaulter` column where 1 means defaulter and 0 means not a defaulter"
   ]
  },
  {
   "cell_type": "code",
   "execution_count": 182,
   "id": "173c3b3d-0638-4d29-b94b-887ed0af7198",
   "metadata": {},
   "outputs": [],
   "source": [
    "filtered_loan_df['is_defaulter'] = filtered_loan_df['loan_status'].apply(lambda x: 1 if x == 'Charged Off' else 0)"
   ]
  },
  {
   "cell_type": "markdown",
   "id": "8ec8f6f6-daef-497f-ac24-324957d5a44e",
   "metadata": {},
   "source": [
    "###  Graphical representation of the type of `loan_status` to see how many have been charged off"
   ]
  },
  {
   "cell_type": "code",
   "execution_count": 183,
   "id": "54c79128-5775-4095-b0e7-c951dc96cb31",
   "metadata": {},
   "outputs": [
    {
     "data": {
      "image/png": "[encoded data removed]",
      "text/plain": [
       "<Figure size 640x480 with 1 Axes>"
      ]
     },
     "metadata": {},
     "output_type": "display_data"
    }
   ],
   "source": [
    "sns.countplot(data = filtered_loan_df, x= 'loan_status')\n",
    "plt.title('Loan Status Distribution')\n",
    "plt.xlabel('Types of loan status')\n",
    "plt.ylabel('Count of each type')\n",
    "plt.show()\n"
   ]
  },
  {
   "cell_type": "markdown",
   "id": "22599e68-4465-46bb-a13c-3b5b78a8ec15",
   "metadata": {},
   "source": [
    "### Observation :  we have almost 1/8 defaulters out off total data"
   ]
  },
  {
   "cell_type": "markdown",
   "id": "07d01f84-c0df-4391-87d5-d98dc487838a",
   "metadata": {},
   "source": [
    "## exploring `loan_amnt` column"
   ]
  },
  {
   "cell_type": "code",
   "execution_count": 184,
   "id": "44657d3e-28a8-42b5-ac81-4aa45ae72c9b",
   "metadata": {},
   "outputs": [
    {
     "data": {
      "image/png": "[encoded data removed]",
      "text/plain": [
       "<Figure size 640x480 with 1 Axes>"
      ]
     },
     "metadata": {},
     "output_type": "display_data"
    }
   ],
   "source": [
    "sns.boxplot(data = filtered_loan_df, y='loan_amnt',hue='is_defaulter')\n",
    "plt.title('Distribution of loan amount')\n",
    "plt.ylabel('loan amount')\n",
    "plt.xlabel('Is Defaulter')\n",
    "plt.show()"
   ]
  },
  {
   "cell_type": "markdown",
   "id": "7447bb30-66c6-44c8-9991-cccf67c066ac",
   "metadata": {},
   "source": [
    "### Observation : we can see that there are few amount > 29250 that can be called outliers lets see if that can make any relation with the defaulters"
   ]
  },
  {
   "cell_type": "code",
   "execution_count": 185,
   "id": "c2954d02-5467-4e02-b5ee-46d3b418bb06",
   "metadata": {},
   "outputs": [],
   "source": [
    "# calculating the upper whisker for loan amount\n",
    "loan_amount_75th_percentile = filtered_loan_df['loan_amnt'].quantile(0.75)\n",
    "loan_amount_25th_percentile = filtered_loan_df['loan_amnt'].quantile(0.25)\n",
    "iqr_loan_amount = loan_amount_75th_percentile - loan_amount_25th_percentile\n",
    "upperwhisker_value = loan_amount_75th_percentile + (1.5 * iqr_loan_amount)"
   ]
  },
  {
   "cell_type": "code",
   "execution_count": 186,
   "id": "f414d08b-8e14-4e43-a4ed-2bdb531737f8",
   "metadata": {},
   "outputs": [
    {
     "data": {
      "text/plain": [
       "is_defaulter\n",
       "0    977\n",
       "1    253\n",
       "Name: count, dtype: int64"
      ]
     },
     "execution_count": 186,
     "metadata": {},
     "output_type": "execute_result"
    }
   ],
   "source": [
    "filtered_loan_df[filtered_loan_df['loan_amnt'] > upperwhisker_value]['is_defaulter'].value_counts()"
   ]
  },
  {
   "cell_type": "markdown",
   "id": "9f582718-6454-4108-be48-942bb1b30221",
   "metadata": {},
   "source": [
    "### Observation : we can see that the borrower taking loan > 29250 is less likely to make default."
   ]
  },
  {
   "cell_type": "markdown",
   "id": "baf7f909-9927-460e-a806-46a16f90ee72",
   "metadata": {},
   "source": [
    "## Now lets check `grade` Column"
   ]
  },
  {
   "cell_type": "code",
   "execution_count": 187,
   "id": "571d7150-7aab-4b9c-b0bd-ecd1993f4bfb",
   "metadata": {},
   "outputs": [
    {
     "data": {
      "image/png": "[encoded data removed]",
      "text/plain": [
       "<Figure size 640x480 with 1 Axes>"
      ]
     },
     "metadata": {},
     "output_type": "display_data"
    }
   ],
   "source": [
    "sns.countplot(data = filtered_loan_df, x = 'grade')\n",
    "plt.title('Number of loans per grade')\n",
    "plt.xlabel('Grade')\n",
    "plt.ylabel('Loan Count')\n",
    "plt.show()"
   ]
  },
  {
   "cell_type": "markdown",
   "id": "12ec0e07-d96f-4dd6-bffc-e8cbe84bb593",
   "metadata": {},
   "source": [
    "### Observation : We can see clearly that less loan has been given to grade `E, F, G`"
   ]
  },
  {
   "cell_type": "markdown",
   "id": "a24d1e45-594f-448b-ad0c-354778cd63c3",
   "metadata": {},
   "source": [
    "## Lets check if that can stop or atleast reduce the defaulters"
   ]
  },
  {
   "cell_type": "code",
   "execution_count": 188,
   "id": "be80554a-91e4-4d7a-a082-d2fcb4ffc27d",
   "metadata": {},
   "outputs": [
    {
     "data": {
      "image/png": "[encoded data removed]",
      "text/plain": [
       "<Figure size 640x480 with 1 Axes>"
      ]
     },
     "metadata": {},
     "output_type": "display_data"
    }
   ],
   "source": [
    "sns.countplot(data = filtered_loan_df, x = 'grade',  hue = filtered_loan_df['is_defaulter'].astype(str))\n",
    "plt.title('Number of loans per grade vs Number of defaulter in that grade')\n",
    "plt.xlabel('Grade vs Defaulter')\n",
    "plt.ylabel('Count')\n",
    "plt.show()"
   ]
  },
  {
   "cell_type": "markdown",
   "id": "aab323b8-daf5-4b28-8385-4fb83a388a11",
   "metadata": {},
   "source": [
    "### Observation :  we can clearly see that grading system have clearly reduce the defaulter percentage."
   ]
  },
  {
   "cell_type": "markdown",
   "id": "45d4145b-9db0-4c8c-845a-d804de0a3070",
   "metadata": {},
   "source": [
    "## Now explore `sub_grade`"
   ]
  },
  {
   "cell_type": "code",
   "execution_count": 189,
   "id": "fe5f050b-527f-4c07-985e-e0b0026b589f",
   "metadata": {},
   "outputs": [
    {
     "data": {
      "image/png": "[encoded data removed]",
      "text/plain": [
       "<Figure size 1200x600 with 1 Axes>"
      ]
     },
     "metadata": {},
     "output_type": "display_data"
    }
   ],
   "source": [
    "plt.figure(figsize=(12,6))\n",
    "sns.countplot(data = filtered_loan_df, x = 'sub_grade', order= sorted(filtered_loan_df['sub_grade'].unique()))\n",
    "plt.title('Number of loans per  sub grade')\n",
    "plt.xlabel('Sub Grade')\n",
    "plt.ylabel('Loan Count')\n",
    "plt.show()"
   ]
  },
  {
   "cell_type": "markdown",
   "id": "982a5c95-cf43-4ad0-b407-35b63af8bb07",
   "metadata": {},
   "source": [
    "### Observation : We can observe a trend where the number of loans approved decreases as we move into the riskier category."
   ]
  },
  {
   "cell_type": "markdown",
   "id": "850c6160-b2d5-4e67-82f8-2a267922d7c9",
   "metadata": {},
   "source": [
    "##  Lets see if that make any impact on the defaulters"
   ]
  },
  {
   "cell_type": "code",
   "execution_count": 190,
   "id": "5fdc06f5-436a-4d28-8687-126c8e320eae",
   "metadata": {},
   "outputs": [
    {
     "data": {
      "image/png": "[encoded data removed]",
      "text/plain": [
       "<Figure size 1200x600 with 1 Axes>"
      ]
     },
     "metadata": {},
     "output_type": "display_data"
    }
   ],
   "source": [
    "plt.figure(figsize=(12,6))\n",
    "sns.countplot(data = filtered_loan_df, x = 'sub_grade', order= sorted(filtered_loan_df['sub_grade'].unique()),               \n",
    "              hue= filtered_loan_df['is_defaulter'].astype(str))\n",
    "plt.title('Number of loans per  sub grade')\n",
    "plt.xlabel('Sub Grade')\n",
    "plt.ylabel('Loan Count')\n",
    "plt.show()"
   ]
  },
  {
   "cell_type": "markdown",
   "id": "cc044a6f-953a-4baa-ae86-30daa2b12d92",
   "metadata": {},
   "source": [
    "### Observation : We can see that there is good affect of grading and subgrading, we can conclude that we should avoid giving loan to riskier client but its not very conclusive lets dive further."
   ]
  },
  {
   "cell_type": "markdown",
   "id": "1b0c1257-70a7-4611-ae20-9da2be019856",
   "metadata": {},
   "source": [
    "# Lets now explore the `annual_inc` column"
   ]
  },
  {
   "cell_type": "code",
   "execution_count": 224,
   "id": "40f365eb-79f4-481e-845d-9cc82d153acb",
   "metadata": {},
   "outputs": [
    {
     "data": {
      "image/png": "[encoded data removed]",
      "text/plain": [
       "<Figure size 640x480 with 1 Axes>"
      ]
     },
     "metadata": {},
     "output_type": "display_data"
    }
   ],
   "source": [
    "sns.boxplot(\n",
    "    data=filtered_loan_df, \n",
    "    x='is_defaulter', \n",
    "    y='annual_inc'   \n",
    ")\n",
    "plt.title('Annual Income Distribution by Default Status')\n",
    "plt.xlabel('Is Defaulter')\n",
    "plt.ylabel('Income in Lacs')\n",
    "plt.show()"
   ]
  },
  {
   "cell_type": "markdown",
   "id": "9163e1ad-3053-44b2-991f-d55a5aa3ab02",
   "metadata": {},
   "source": [
    "### Observation : we can clearly see there are very big outliers we can check if they have any relation with the increase in salary."
   ]
  },
  {
   "cell_type": "code",
   "execution_count": 192,
   "id": "162c2385-a6b1-4879-a047-e75dc8005836",
   "metadata": {},
   "outputs": [],
   "source": [
    "# calculating the upper whisker for annual_inc\n",
    "annual_inc_75th_percentile = filtered_loan_df['annual_inc'].quantile(0.75)\n",
    "annual_inc_25th_percentile = filtered_loan_df['annual_inc'].quantile(0.25)\n",
    "iqr_annual_inc = annual_inc_75th_percentile - annual_inc_25th_percentile\n",
    "upperwhisker_value_annual_inc = annual_inc_75th_percentile + (1.5 * iqr_annual_inc)"
   ]
  },
  {
   "cell_type": "code",
   "execution_count": 193,
   "id": "0502a735-c4c3-4433-8622-ad7b688ad92c",
   "metadata": {},
   "outputs": [
    {
     "data": {
      "text/plain": [
       "is_defaulter\n",
       "0    85.660347\n",
       "1    14.339653\n",
       "Name: count, dtype: float64"
      ]
     },
     "execution_count": 193,
     "metadata": {},
     "output_type": "execute_result"
    }
   ],
   "source": [
    "# checking the defaulter with salary lower than upperwhisker_value_annual_inc\n",
    "(filtered_loan_df[filtered_loan_df['annual_inc'] < upperwhisker_value_annual_inc]['is_defaulter'].value_counts() / \n",
    "len(filtered_loan_df[filtered_loan_df['annual_inc'] < upperwhisker_value_annual_inc])) * 100"
   ]
  },
  {
   "cell_type": "code",
   "execution_count": 194,
   "id": "d2cf63e6-a71e-410f-b57d-862e96f801d0",
   "metadata": {},
   "outputs": [
    {
     "data": {
      "text/plain": [
       "is_defaulter\n",
       "0    89.365165\n",
       "1    10.634835\n",
       "Name: count, dtype: float64"
      ]
     },
     "execution_count": 194,
     "metadata": {},
     "output_type": "execute_result"
    }
   ],
   "source": [
    "# checking the defaulter with salary greater than upperwhisker_value_annual_inc \n",
    "(filtered_loan_df[filtered_loan_df['annual_inc'] > upperwhisker_value_annual_inc]['is_defaulter'].value_counts() / \n",
    "len(filtered_loan_df[filtered_loan_df['annual_inc'] > upperwhisker_value_annual_inc])) *100"
   ]
  },
  {
   "cell_type": "code",
   "execution_count": 195,
   "id": "5ec41bc7-a9f8-4d6b-8126-509db3a13138",
   "metadata": {},
   "outputs": [
    {
     "data": {
      "text/plain": [
       "is_defaulter\n",
       "0    92.857143\n",
       "1     7.142857\n",
       "Name: count, dtype: float64"
      ]
     },
     "execution_count": 195,
     "metadata": {},
     "output_type": "execute_result"
    }
   ],
   "source": [
    "# checking the defaulter with salary greater than 1000000\n",
    "(filtered_loan_df[filtered_loan_df['annual_inc'] > 1000000]['is_defaulter'].value_counts() / \n",
    "len(filtered_loan_df[filtered_loan_df['annual_inc'] > 1000000])) *100"
   ]
  },
  {
   "cell_type": "markdown",
   "id": "daa35b55-caae-4074-9306-891a08d0c0f0",
   "metadata": {},
   "source": [
    "### Observation : We can clearly see that as the salary is increasing the percentage of defaulters are decreasing from `14.90` to `10.63` to `7.14`"
   ]
  },
  {
   "cell_type": "markdown",
   "id": "99dedade-de23-4f45-858a-7a7481083a8d",
   "metadata": {},
   "source": [
    "## Checking whether a higher debt-to-income ratio (dti) is associated with higher default rates"
   ]
  },
  {
   "cell_type": "code",
   "execution_count": 196,
   "id": "fc8ebe60-e89c-426a-9d28-3a59606f1c83",
   "metadata": {},
   "outputs": [
    {
     "data": {
      "image/png": "[encoded data removed]",
      "text/plain": [
       "<Figure size 1000x600 with 1 Axes>"
      ]
     },
     "metadata": {},
     "output_type": "display_data"
    }
   ],
   "source": [
    "# dti : A ratio calculated using the borrower’s total monthly debt payments on the total debt obligations, excluding mortgage and the requested LC loan, divided by the borrower’s self-reported monthly income.\n",
    "plt.figure(figsize=[10,6])\n",
    "sns.boxplot(x='is_defaulter',y='dti',data=filtered_loan_df,hue='is_defaulter')\n",
    "plt.title('DTI Comaprison for Defaulter Vs Non Defaulter')\n",
    "plt.xlabel('IS Defaulter')\n",
    "plt.ylabel('DTI')\n",
    "plt.show()"
   ]
  },
  {
   "cell_type": "markdown",
   "id": "c5b3b36b-5770-4e21-87a9-8e7bb8154255",
   "metadata": {},
   "source": [
    "### there’s a slight upward shift in the DTI range for defaulters, indicating that defaulters might have a marginally higher debt-to-income ratio than non-defaulters.\n",
    "\n",
    "### The interquartile range (IQR), represented by the box, appears to be slightly less for defaulters, suggesting there is more variability in DTI among defaulters."
   ]
  },
  {
   "cell_type": "code",
   "execution_count": 197,
   "id": "86fec490-c006-4695-81cf-38ca950588cf",
   "metadata": {},
   "outputs": [],
   "source": [
    "defaulter_grouped_data=filtered_loan_df.groupby('is_defaulter')"
   ]
  },
  {
   "cell_type": "code",
   "execution_count": 198,
   "id": "216ad8c0-ad6b-412d-9fce-4869e7cb9c02",
   "metadata": {},
   "outputs": [
    {
     "data": {
      "text/html": [
       "<div>\n",
       "<style scoped>\n",
       "    .dataframe tbody tr th:only-of-type {\n",
       "        vertical-align: middle;\n",
       "    }\n",
       "\n",
       "    .dataframe tbody tr th {\n",
       "        vertical-align: top;\n",
       "    }\n",
       "\n",
       "    .dataframe thead th {\n",
       "        text-align: right;\n",
       "    }\n",
       "</style>\n",
       "<table border=\"1\" class=\"dataframe\">\n",
       "  <thead>\n",
       "    <tr style=\"text-align: right;\">\n",
       "      <th></th>\n",
       "      <th>count</th>\n",
       "      <th>mean</th>\n",
       "      <th>std</th>\n",
       "      <th>min</th>\n",
       "      <th>25%</th>\n",
       "      <th>50%</th>\n",
       "      <th>75%</th>\n",
       "      <th>max</th>\n",
       "    </tr>\n",
       "    <tr>\n",
       "      <th>is_defaulter</th>\n",
       "      <th></th>\n",
       "      <th></th>\n",
       "      <th></th>\n",
       "      <th></th>\n",
       "      <th></th>\n",
       "      <th></th>\n",
       "      <th></th>\n",
       "      <th></th>\n",
       "    </tr>\n",
       "  </thead>\n",
       "  <tbody>\n",
       "    <tr>\n",
       "      <th>0</th>\n",
       "      <td>34090.0</td>\n",
       "      <td>13.201980</td>\n",
       "      <td>6.687165</td>\n",
       "      <td>0.0</td>\n",
       "      <td>8.04</td>\n",
       "      <td>13.25</td>\n",
       "      <td>18.46</td>\n",
       "      <td>29.99</td>\n",
       "    </tr>\n",
       "    <tr>\n",
       "      <th>1</th>\n",
       "      <td>5627.0</td>\n",
       "      <td>14.000624</td>\n",
       "      <td>6.585577</td>\n",
       "      <td>0.0</td>\n",
       "      <td>9.05</td>\n",
       "      <td>14.29</td>\n",
       "      <td>19.29</td>\n",
       "      <td>29.85</td>\n",
       "    </tr>\n",
       "  </tbody>\n",
       "</table>\n",
       "</div>"
      ],
      "text/plain": [
       "                count       mean       std  min   25%    50%    75%    max\n",
       "is_defaulter                                                              \n",
       "0             34090.0  13.201980  6.687165  0.0  8.04  13.25  18.46  29.99\n",
       "1              5627.0  14.000624  6.585577  0.0  9.05  14.29  19.29  29.85"
      ]
     },
     "execution_count": 198,
     "metadata": {},
     "output_type": "execute_result"
    }
   ],
   "source": [
    "defaulter_grouped_data['dti'].describe()"
   ]
  },
  {
   "cell_type": "markdown",
   "id": "10555731-3bb0-4eef-8162-40af0f3e0223",
   "metadata": {},
   "source": [
    "IQR FOR IS_DEFAULTER = 0 -> 18.46-8.04 = 10.42 <br/>\n",
    "IQR FOR IS_DEFAULTER = 1 -> 19.29-9.05 = 10.24"
   ]
  },
  {
   "cell_type": "markdown",
   "id": "d8e49c18-835a-40b4-9046-2f1f93ca7a3d",
   "metadata": {},
   "source": [
    "### Observation\n",
    "### The median DTI for defaulters (14.29) is slightly higher than that for non-defaulters (13.25), indicating that defaulters, on average, carry a marginally higher debt load relative to their income.\n",
    "### Even though there is a slightly higher DTI among defaulters, the overlap in the IQR suggests that DTI alone is not a clear distinguishing factor for defaults."
   ]
  },
  {
   "cell_type": "markdown",
   "id": "d270539a-ea20-40e5-bc3c-2a561e3abb8a",
   "metadata": {},
   "source": [
    "# Checking Relation Between Defaulter VS InterestRate (int_rate)"
   ]
  },
  {
   "cell_type": "code",
   "execution_count": 199,
   "id": "1d5a2c6c-31dc-4b61-b121-65bb537c2102",
   "metadata": {},
   "outputs": [
    {
     "data": {
      "image/png": "[encoded data removed]",
      "text/plain": [
       "<Figure size 1000x600 with 1 Axes>"
      ]
     },
     "metadata": {},
     "output_type": "display_data"
    }
   ],
   "source": [
    "plt.figure(figsize=[10,6])\n",
    "sns.boxplot(x='is_defaulter',y='int_rate',data=filtered_loan_df,hue='is_defaulter')\n",
    "plt.title(\"Interest Rate Comparison For Defaulter Vs Non Defaulter\")\n",
    "plt.xlabel(\"Is Defaulter\")\n",
    "plt.ylabel(\"Interest Rate\")\n",
    "plt.show()"
   ]
  },
  {
   "cell_type": "code",
   "execution_count": 200,
   "id": "b7ea27b6-2100-459d-8a63-977a763d4f90",
   "metadata": {},
   "outputs": [
    {
     "data": {
      "text/html": [
       "<div>\n",
       "<style scoped>\n",
       "    .dataframe tbody tr th:only-of-type {\n",
       "        vertical-align: middle;\n",
       "    }\n",
       "\n",
       "    .dataframe tbody tr th {\n",
       "        vertical-align: top;\n",
       "    }\n",
       "\n",
       "    .dataframe thead th {\n",
       "        text-align: right;\n",
       "    }\n",
       "</style>\n",
       "<table border=\"1\" class=\"dataframe\">\n",
       "  <thead>\n",
       "    <tr style=\"text-align: right;\">\n",
       "      <th></th>\n",
       "      <th>count</th>\n",
       "      <th>mean</th>\n",
       "      <th>std</th>\n",
       "      <th>min</th>\n",
       "      <th>25%</th>\n",
       "      <th>50%</th>\n",
       "      <th>75%</th>\n",
       "      <th>max</th>\n",
       "    </tr>\n",
       "    <tr>\n",
       "      <th>is_defaulter</th>\n",
       "      <th></th>\n",
       "      <th></th>\n",
       "      <th></th>\n",
       "      <th></th>\n",
       "      <th></th>\n",
       "      <th></th>\n",
       "      <th></th>\n",
       "      <th></th>\n",
       "    </tr>\n",
       "  </thead>\n",
       "  <tbody>\n",
       "    <tr>\n",
       "      <th>0</th>\n",
       "      <td>34090.0</td>\n",
       "      <td>11.724186</td>\n",
       "      <td>3.652109</td>\n",
       "      <td>5.42</td>\n",
       "      <td>8.88</td>\n",
       "      <td>11.49</td>\n",
       "      <td>14.17</td>\n",
       "      <td>24.59</td>\n",
       "    </tr>\n",
       "    <tr>\n",
       "      <th>1</th>\n",
       "      <td>5627.0</td>\n",
       "      <td>13.820432</td>\n",
       "      <td>3.654413</td>\n",
       "      <td>5.42</td>\n",
       "      <td>11.31</td>\n",
       "      <td>13.61</td>\n",
       "      <td>16.40</td>\n",
       "      <td>24.40</td>\n",
       "    </tr>\n",
       "  </tbody>\n",
       "</table>\n",
       "</div>"
      ],
      "text/plain": [
       "                count       mean       std   min    25%    50%    75%    max\n",
       "is_defaulter                                                                \n",
       "0             34090.0  11.724186  3.652109  5.42   8.88  11.49  14.17  24.59\n",
       "1              5627.0  13.820432  3.654413  5.42  11.31  13.61  16.40  24.40"
      ]
     },
     "execution_count": 200,
     "metadata": {},
     "output_type": "execute_result"
    }
   ],
   "source": [
    "defaulter_grouped_data['int_rate'].describe()"
   ]
  },
  {
   "cell_type": "markdown",
   "id": "993d4bbc-62de-46e6-b1fd-07a90b6b6a76",
   "metadata": {},
   "source": [
    "IQR FOR IS_DEFAULTER = 0 -> 14.17-8.88 = 5.29<br/>\n",
    "IQR FOR IS_DEFAULTER = 1 -> 16.40-11.31 = 5.09"
   ]
  },
  {
   "cell_type": "markdown",
   "id": "5ec417a9-3708-41d3-b3b5-9dfc2142334e",
   "metadata": {},
   "source": [
    "### The mean interest rate for defaulters (13.82%) is higher than for non-defaulters (11.72%), indicating that loans with higher interest rates are more likely to default. <br/>\n",
    "### The median interest rate for defaulters (13.61%) is also higher than for non-defaulters (11.49%).<br/>\n",
    "### Higher interest rates might be a strong indicator of default risk, possibly because higher rates are assigned to applicants with higher risk profiles.<br/>\n",
    "### This relationship can be useful for risk assessment, suggesting that loans with interest rates above a certain threshold might need closer monitoring.\n"
   ]
  },
  {
   "cell_type": "markdown",
   "id": "862edf2c-1c33-4f88-ad89-2b3f4fcd6fca",
   "metadata": {},
   "source": [
    "# Checking the `verification_status` Column for Defaulters Only"
   ]
  },
  {
   "cell_type": "code",
   "execution_count": 201,
   "id": "47960230-badc-4c1f-98d8-087fee30a379",
   "metadata": {},
   "outputs": [
    {
     "data": {
      "text/plain": [
       "array(['Verified', 'Source Verified', 'Not Verified'], dtype=object)"
      ]
     },
     "execution_count": 201,
     "metadata": {},
     "output_type": "execute_result"
    }
   ],
   "source": [
    "filtered_loan_df['verification_status'].unique()"
   ]
  },
  {
   "cell_type": "code",
   "execution_count": 202,
   "id": "a0e1e352-7bb6-4130-901b-b0c3f948cb92",
   "metadata": {},
   "outputs": [
    {
     "data": {
      "image/png": "[encoded data removed]",
      "text/plain": [
       "<Figure size 1200x600 with 1 Axes>"
      ]
     },
     "metadata": {},
     "output_type": "display_data"
    }
   ],
   "source": [
    "plt.figure(figsize=[12,6])\n",
    "sns.countplot(x='verification_status',data=filtered_loan_df[filtered_loan_df['is_defaulter']==1])\n",
    "plt.title('Verification Status of Defaulters')\n",
    "plt.xlabel('Verification Status')\n",
    "plt.ylabel('Count')\n",
    "plt.show()"
   ]
  },
  {
   "cell_type": "markdown",
   "id": "4db27c1b-f1b7-4bae-872b-d03589f38a82",
   "metadata": {},
   "source": [
    "### Observation : The count of Not Verified Applicants are higher as compared to to the Verified Applicants "
   ]
  },
  {
   "cell_type": "markdown",
   "id": "3c955abb-70d1-4b5c-a452-c20e9fb0322c",
   "metadata": {},
   "source": [
    "# Checking the Loan Purpose VS Defaulters"
   ]
  },
  {
   "cell_type": "code",
   "execution_count": 203,
   "id": "8ab51e37-0ef1-44ee-84bf-37359a8aae91",
   "metadata": {},
   "outputs": [
    {
     "data": {
      "text/plain": [
       "array(['credit_card', 'car', 'small_business', 'other', 'wedding',\n",
       "       'debt_consolidation', 'home_improvement', 'major_purchase',\n",
       "       'medical', 'moving', 'vacation', 'house', 'renewable_energy',\n",
       "       'educational'], dtype=object)"
      ]
     },
     "execution_count": 203,
     "metadata": {},
     "output_type": "execute_result"
    }
   ],
   "source": [
    "filtered_loan_df['purpose'].unique()"
   ]
  },
  {
   "cell_type": "code",
   "execution_count": 204,
   "id": "aac26a5e-084a-495b-b14f-091b1e4fa1ac",
   "metadata": {},
   "outputs": [
    {
     "data": {
      "image/png": "[encoded data removed]",
      "text/plain": [
       "<Figure size 1200x800 with 1 Axes>"
      ]
     },
     "metadata": {},
     "output_type": "display_data"
    }
   ],
   "source": [
    "plt.figure(figsize=[12,8])\n",
    "sns.countplot(data=filtered_loan_df[filtered_loan_df['is_defaulter']==1],x='purpose')\n",
    "plt.title('Comparison for Loan Purpose for Defaulter Vs Non Defaulter')\n",
    "plt.xlabel('Purpose')\n",
    "plt.ylabel('Count')\n",
    "plt.xticks(rotation=90)\n",
    "plt.show()"
   ]
  },
  {
   "cell_type": "code",
   "execution_count": 205,
   "id": "56505f53-bec7-42ec-bdfc-61f1b4dbc8b5",
   "metadata": {},
   "outputs": [
    {
     "data": {
      "text/plain": [
       "purpose\n",
       "debt_consolidation    2767\n",
       "other                  633\n",
       "credit_card            542\n",
       "small_business         475\n",
       "home_improvement       347\n",
       "major_purchase         222\n",
       "car                    160\n",
       "medical                106\n",
       "wedding                 96\n",
       "moving                  92\n",
       "house                   59\n",
       "educational             56\n",
       "vacation                53\n",
       "renewable_energy        19\n",
       "Name: count, dtype: int64"
      ]
     },
     "execution_count": 205,
     "metadata": {},
     "output_type": "execute_result"
    }
   ],
   "source": [
    "# numerical analysis\n",
    "filtered_loan_df[filtered_loan_df['is_defaulter']==1]['purpose'].value_counts()"
   ]
  },
  {
   "cell_type": "markdown",
   "id": "161afcd8-8c58-48cc-8806-ff69a0857285",
   "metadata": {},
   "source": [
    "### Observation :  Cases where the purpose of taking loan was debt_consolidation has seen the major number of defaulters as compared to other categories. So we need to adjust the policies and interest rates for this category specially."
   ]
  },
  {
   "cell_type": "markdown",
   "id": "797b8e31-a3f1-4dde-93eb-345e31a9ab1f",
   "metadata": {},
   "source": [
    "# Correlation Between Columns 'loan_amnt', 'annual_inc', 'dti', 'int_rate', 'is_defaulter'"
   ]
  },
  {
   "cell_type": "code",
   "execution_count": 206,
   "id": "ae87a7a2-71e6-47cf-b05e-5795276627f0",
   "metadata": {},
   "outputs": [
    {
     "name": "stdout",
     "output_type": "stream",
     "text": [
      "              loan_amnt  annual_inc       dti  int_rate  is_defaulter\n",
      "loan_amnt      1.000000    0.271149  0.066439  0.309415      0.048217\n",
      "annual_inc     0.271149    1.000000 -0.122732  0.053185     -0.041662\n",
      "dti            0.066439   -0.122732  1.000000  0.111162      0.041701\n",
      "int_rate       0.309415    0.053185  0.111162  1.000000      0.196253\n",
      "is_defaulter   0.048217   -0.041662  0.041701  0.196253      1.000000\n"
     ]
    }
   ],
   "source": [
    "cols = ['loan_amnt', 'annual_inc', 'dti', 'int_rate', 'is_defaulter']\n",
    "corr_matrix = filtered_loan_df[cols].corr()\n",
    "print(corr_matrix)"
   ]
  },
  {
   "cell_type": "code",
   "execution_count": 207,
   "id": "a41ee76b-f5aa-46e3-8e24-a9d9ca1a98dd",
   "metadata": {},
   "outputs": [
    {
     "data": {
      "image/png": "[encoded data removed]",
      "text/plain": [
       "<Figure size 1200x600 with 2 Axes>"
      ]
     },
     "metadata": {},
     "output_type": "display_data"
    }
   ],
   "source": [
    "plt.figure(figsize=[12,6])\n",
    "sns.heatmap(corr_matrix,cmap='coolwarm',annot=True)\n",
    "plt.title(\"Heatmap Comparison For Correlation Matrix\")\n",
    "plt.show()"
   ]
  },
  {
   "cell_type": "markdown",
   "id": "3bb7f469-5a02-4cc0-8203-df883408a047",
   "metadata": {},
   "source": [
    "### The most meaningful finding here is the relationship between int_rate and is_defaulter, which can be used as a potential indicator of default risk.\n",
    "### There is a strong relationship between the loan_amnt column and the annual_inc column (0.27) suggesting that borrowers with higher incomes tend to take larger loans.\n",
    "### Strong relation between loan_amnt and int_rate hence larger loan_amnt will attract more interest.\n",
    "### Although other correlations are weak, they can still be considered as part of a multivariate analysis to explore complex relationships."
   ]
  },
  {
   "cell_type": "markdown",
   "id": "75e41a94-83e5-4f31-9330-b8b18b299cd0",
   "metadata": {},
   "source": [
    "# Pairplots for columns having correlation > 0.2 with IS_DEFAULTER Column"
   ]
  },
  {
   "cell_type": "code",
   "execution_count": 208,
   "id": "ab902c07-4ea0-4031-b710-01b63303587c",
   "metadata": {},
   "outputs": [
    {
     "data": {
      "text/plain": [
       "Index(['id', 'member_id', 'loan_amnt', 'funded_amnt', 'funded_amnt_inv',\n",
       "       'term in months', 'int_rate', 'installment', 'grade', 'sub_grade',\n",
       "       'emp_title', 'emp_length', 'home_ownership', 'annual_inc',\n",
       "       'verification_status', 'issue_d', 'loan_status', 'pymnt_plan', 'url',\n",
       "       'desc', 'purpose', 'title', 'zip_code', 'addr_state', 'dti',\n",
       "       'delinq_2yrs', 'earliest_cr_line', 'inq_last_6mths',\n",
       "       'mths_since_last_delinq', 'mths_since_last_record', 'open_acc',\n",
       "       'pub_rec', 'revol_bal', 'revol_util in %', 'total_acc', 'out_prncp',\n",
       "       'out_prncp_inv', 'total_pymnt', 'total_pymnt_inv', 'total_rec_prncp',\n",
       "       'total_rec_int', 'total_rec_late_fee', 'recoveries',\n",
       "       'collection_recovery_fee', 'last_pymnt_d', 'last_pymnt_amnt',\n",
       "       'next_pymnt_d', 'last_credit_pull_d', 'policy_code', 'application_type',\n",
       "       'delinq_amnt', 'pub_rec_bankruptcies', 'is_defaulter'],\n",
       "      dtype='object')"
      ]
     },
     "execution_count": 208,
     "metadata": {},
     "output_type": "execute_result"
    }
   ],
   "source": [
    "filtered_loan_df.columns"
   ]
  },
  {
   "cell_type": "code",
   "execution_count": 209,
   "id": "154f8549-d403-45fe-a8b4-fea41cda401e",
   "metadata": {},
   "outputs": [],
   "source": [
    "corr_matrix = filtered_loan_df.corr(numeric_only=True)"
   ]
  },
  {
   "cell_type": "code",
   "execution_count": 210,
   "id": "8a7549bf-56e5-420e-acbf-36162b21120c",
   "metadata": {},
   "outputs": [
    {
     "data": {
      "text/plain": [
       "id                         0.028370\n",
       "member_id                  0.026438\n",
       "loan_amnt                  0.048217\n",
       "funded_amnt                0.045544\n",
       "funded_amnt_inv            0.026621\n",
       "term in months             0.146038\n",
       "int_rate                   0.196253\n",
       "installment                0.022589\n",
       "emp_length                 0.002429\n",
       "annual_inc                -0.041662\n",
       "zip_code                   0.018128\n",
       "dti                        0.041701\n",
       "delinq_2yrs                0.019904\n",
       "inq_last_6mths             0.071717\n",
       "mths_since_last_delinq     0.020431\n",
       "mths_since_last_record     0.053277\n",
       "open_acc                  -0.010742\n",
       "pub_rec                    0.050880\n",
       "revol_bal                  0.003369\n",
       "revol_util in %            0.095118\n",
       "total_acc                 -0.023563\n",
       "out_prncp                 -0.055476\n",
       "out_prncp_inv             -0.055417\n",
       "total_pymnt               -0.238844\n",
       "total_pymnt_inv           -0.236232\n",
       "total_rec_prncp           -0.335019\n",
       "total_rec_int             -0.010780\n",
       "total_rec_late_fee         0.163221\n",
       "recoveries                 0.340297\n",
       "collection_recovery_fee    0.205394\n",
       "last_pymnt_amnt           -0.214949\n",
       "policy_code                     NaN\n",
       "delinq_amnt                     NaN\n",
       "pub_rec_bankruptcies       0.032955\n",
       "is_defaulter               1.000000\n",
       "Name: is_defaulter, dtype: float64"
      ]
     },
     "execution_count": 210,
     "metadata": {},
     "output_type": "execute_result"
    }
   ],
   "source": [
    "corr_matrix['is_defaulter']"
   ]
  },
  {
   "cell_type": "code",
   "execution_count": 211,
   "id": "852b9440-5e1d-439a-8684-feaf2e4a4dfd",
   "metadata": {},
   "outputs": [
    {
     "data": {
      "text/plain": [
       "['recoveries', 'collection_recovery_fee', 'is_defaulter']"
      ]
     },
     "execution_count": 211,
     "metadata": {},
     "output_type": "execute_result"
    }
   ],
   "source": [
    "corr_matrix[corr_matrix['is_defaulter']>0.2]['is_defaulter'].index.to_list()"
   ]
  },
  {
   "cell_type": "code",
   "execution_count": 212,
   "id": "fe9bfbec-d0b6-426b-8ba7-10ed0ebc3546",
   "metadata": {},
   "outputs": [],
   "source": [
    "corr_column = corr_matrix[corr_matrix['is_defaulter']>0.2]['is_defaulter'].index.to_list()"
   ]
  },
  {
   "cell_type": "markdown",
   "id": "5f61ec7c-aaa8-4a9c-babe-94d27c957f19",
   "metadata": {},
   "source": [
    "### recoveries : post charge off gross recovery (\"Post charge-off gross recovery\" refers to the amount of money collected from a debt after it has been charged off by a lender)\n",
    "### collection_recovery_fee:  post charge off collection fee (A \"post charge-off collection fee\" is an additional fee that a lender may charge after a debt has been charged off.) "
   ]
  },
  {
   "cell_type": "code",
   "execution_count": 213,
   "id": "277c3220-f3f6-4255-a530-4bc46f0a53ee",
   "metadata": {},
   "outputs": [
    {
     "data": {
      "image/png": "[encoded data removed]",
      "text/plain": [
       "<Figure size 592.486x500 with 6 Axes>"
      ]
     },
     "metadata": {},
     "output_type": "display_data"
    }
   ],
   "source": [
    "\n",
    "sns.pairplot(filtered_loan_df[corr_column] , hue='is_defaulter')\n",
    "#plt.title('Pair Plot Comparison (recoveries , collection_recovery_fee) Based on is_defaulter')\n",
    "plt.show()"
   ]
  },
  {
   "cell_type": "markdown",
   "id": "a54a498b-0a43-48b6-a08c-641bc4973007",
   "metadata": {},
   "source": [
    "### Observation\n",
    "### Collection_recovery_fee and recoveries have a high positive correlation. Generally speaking, the collection recovery charge rises in tandem with the number of recoveries. Because of the linear nature of this connection, larger recoveries are linked to higher collection fees.\n",
    "\n",
    "### Higher values of recoveries and collection_recovery_fee cluster the majority of defaulters (is_defaulter = 1). This suggests that, in comparison to non-defaulters, defaulters frequently have larger recovery amounts and related expenses."
   ]
  },
  {
   "cell_type": "markdown",
   "id": "aa7f0e17-ac5a-4a3d-bed8-4ef71fc7a038",
   "metadata": {},
   "source": [
    "# Lets now explore the `total_acc` column"
   ]
  },
  {
   "cell_type": "code",
   "execution_count": 214,
   "id": "562a3fab-8d8b-4c3f-af85-8a4143507f16",
   "metadata": {},
   "outputs": [
    {
     "data": {
      "image/png": "[encoded data removed]",
      "text/plain": [
       "<Figure size 640x480 with 1 Axes>"
      ]
     },
     "metadata": {},
     "output_type": "display_data"
    }
   ],
   "source": [
    "plt.boxplot(filtered_loan_df['total_acc'])\n",
    "plt.title('Total Acc distribution')\n",
    "plt.ylabel('count')\n",
    "plt.show()"
   ]
  },
  {
   "cell_type": "markdown",
   "id": "82314ea5-4341-4c39-9ea3-bb35e2952425",
   "metadata": {},
   "source": [
    "### There are few outliers in total account range approx above 55 lets check deep"
   ]
  },
  {
   "cell_type": "code",
   "execution_count": 215,
   "id": "45edb5ba-5721-45f8-99c0-e9e6f2a8b870",
   "metadata": {},
   "outputs": [],
   "source": [
    "# calculating the upper whisker for annual_inc\n",
    "total_acc_75th_percentile = filtered_loan_df['total_acc'].quantile(0.75)\n",
    "total_acc_25th_percentile = filtered_loan_df['total_acc'].quantile(0.25)\n",
    "iqr_total_acc = total_acc_75th_percentile - total_acc_25th_percentile\n",
    "upperwhisker_value_total_acc = total_acc_75th_percentile + (1.5 * iqr_total_acc)"
   ]
  },
  {
   "cell_type": "code",
   "execution_count": 216,
   "id": "8457af50-7aa0-4208-9356-aee516834d3b",
   "metadata": {},
   "outputs": [
    {
     "data": {
      "text/plain": [
       "53.0"
      ]
     },
     "execution_count": 216,
     "metadata": {},
     "output_type": "execute_result"
    }
   ],
   "source": [
    "upperwhisker_value_total_acc"
   ]
  },
  {
   "cell_type": "code",
   "execution_count": 217,
   "id": "0edc284d-0a98-45de-b97f-bbc345ec7459",
   "metadata": {},
   "outputs": [
    {
     "data": {
      "text/plain": [
       "is_defaulter\n",
       "0    86.666667\n",
       "1    13.333333\n",
       "Name: count, dtype: float64"
      ]
     },
     "execution_count": 217,
     "metadata": {},
     "output_type": "execute_result"
    }
   ],
   "source": [
    "# checking the defaulter with salary greater than upperwhisker_value_total_acc \n",
    "(filtered_loan_df[filtered_loan_df['total_acc'] > upperwhisker_value_total_acc]['is_defaulter'].value_counts() / \n",
    "len(filtered_loan_df[filtered_loan_df['total_acc'] > upperwhisker_value_total_acc])) *100"
   ]
  },
  {
   "cell_type": "code",
   "execution_count": 218,
   "id": "a9354916-78c6-403e-baf0-181d1dc41cde",
   "metadata": {},
   "outputs": [
    {
     "data": {
      "text/plain": [
       "is_defaulter\n",
       "0    85.810362\n",
       "1    14.189638\n",
       "Name: count, dtype: float64"
      ]
     },
     "execution_count": 218,
     "metadata": {},
     "output_type": "execute_result"
    }
   ],
   "source": [
    "# checking the defaulter with salary smaller than upperwhisker_value_total_acc \n",
    "(filtered_loan_df[filtered_loan_df['total_acc'] < upperwhisker_value_total_acc]['is_defaulter'].value_counts() / \n",
    "len(filtered_loan_df[filtered_loan_df['total_acc'] < upperwhisker_value_total_acc])) *100"
   ]
  },
  {
   "cell_type": "markdown",
   "id": "9d284c07-929f-4e46-a54e-e6c46628ef9c",
   "metadata": {},
   "source": [
    "### Observation :  Since there is just a 1% variation in the number of defaulters, we may conclude that anyone can become a defaulter regardless of how many credit accounts they have."
   ]
  },
  {
   "cell_type": "code",
   "execution_count": 219,
   "id": "9b852ea1-b4ea-4d49-b01c-31d75edca617",
   "metadata": {},
   "outputs": [
    {
     "data": {
      "image/png": "[encoded data removed]",
      "text/plain": [
       "<Figure size 640x480 with 1 Axes>"
      ]
     },
     "metadata": {},
     "output_type": "display_data"
    }
   ],
   "source": [
    "sns.histplot(x='revol_util in %', data = filtered_loan_df, hue= filtered_loan_df['is_defaulter'].astype(str))\n",
    "plt.title('Utilization of credit Acc distribution')\n",
    "plt.xlabel('Utilization in %')\n",
    "plt.ylabel('count')\n",
    "plt.show()"
   ]
  },
  {
   "cell_type": "markdown",
   "id": "a071c937-f121-47d8-b317-0a85767bdb28",
   "metadata": {},
   "source": [
    "### Observation:  Defaulter is from each range , this doesn't make any reltion as such."
   ]
  },
  {
   "cell_type": "markdown",
   "id": "ff5c71b6-520e-4bc3-928d-04a699a8f7d4",
   "metadata": {},
   "source": [
    "# `emp_length`"
   ]
  },
  {
   "cell_type": "code",
   "execution_count": 220,
   "id": "eacb511e-c8a1-4643-843a-9811656de79c",
   "metadata": {},
   "outputs": [
    {
     "data": {
      "image/png": "[encoded data removed]",
      "text/plain": [
       "<Figure size 640x480 with 1 Axes>"
      ]
     },
     "metadata": {},
     "output_type": "display_data"
    }
   ],
   "source": [
    "sns.histplot(x='emp_length', data = filtered_loan_df, hue= filtered_loan_df['is_defaulter'].astype(str))\n",
    "plt.title('Employee length distribution')\n",
    "plt.xlabel('Years')\n",
    "plt.ylabel('count')\n",
    "plt.show()"
   ]
  },
  {
   "cell_type": "markdown",
   "id": "5a477b15-6411-4082-90ab-00d4d27a0d4d",
   "metadata": {},
   "source": [
    "### `delinq_2yrs`"
   ]
  },
  {
   "cell_type": "code",
   "execution_count": 221,
   "id": "e8d2d3dd-36f9-4c3d-bb00-9ad2adee49ce",
   "metadata": {},
   "outputs": [
    {
     "data": {
      "image/png": "[encoded data removed]",
      "text/plain": [
       "<Figure size 640x480 with 1 Axes>"
      ]
     },
     "metadata": {},
     "output_type": "display_data"
    }
   ],
   "source": [
    "\n",
    "sns.countplot(data = filtered_loan_df, x='delinq_2yrs', hue=filtered_loan_df['is_defaulter'].astype(str))\n",
    "plt.title('Delinq 2 Years Comparison')\n",
    "plt.xlabel('Delinq 2yrs')\n",
    "plt.ylabel('Count')\n",
    "plt.show()"
   ]
  },
  {
   "cell_type": "code",
   "execution_count": 222,
   "id": "589b1e53-475c-4aca-8ea7-ba61103d1d4d",
   "metadata": {},
   "outputs": [
    {
     "data": {
      "text/plain": [
       "is_defaulter\n",
       "0    34090\n",
       "1     5627\n",
       "Name: count, dtype: int64"
      ]
     },
     "execution_count": 222,
     "metadata": {},
     "output_type": "execute_result"
    }
   ],
   "source": [
    "filtered_loan_df['is_defaulter'].value_counts()"
   ]
  },
  {
   "cell_type": "code",
   "execution_count": 111,
   "id": "041034bc-c2b2-471e-b3b3-b025d08250e0",
   "metadata": {},
   "outputs": [
    {
     "data": {
      "text/plain": [
       "is_defaulter\n",
       "0    30469\n",
       "1     4936\n",
       "Name: count, dtype: int64"
      ]
     },
     "execution_count": 111,
     "metadata": {},
     "output_type": "execute_result"
    }
   ],
   "source": [
    "filtered_loan_df[filtered_loan_df['delinq_2yrs']==0]['is_defaulter'].value_counts()"
   ]
  },
  {
   "cell_type": "markdown",
   "id": "08d3d2d7-cdc6-4be6-88b3-49f44a6ed69d",
   "metadata": {},
   "source": [
    "### Observation :  We can see that there are 5627 deafaulters and out of that almost 4936 have no deliq in last 2 yrs so we can say that they can be new defaulters or have done default long time back, lets explore more."
   ]
  },
  {
   "cell_type": "code",
   "execution_count": 113,
   "id": "5d421239-adae-45b8-bf62-8c82383b01e7",
   "metadata": {},
   "outputs": [
    {
     "data": {
      "image/png": "[encoded data removed]",
      "text/plain": [
       "<Figure size 1200x800 with 1 Axes>"
      ]
     },
     "metadata": {},
     "output_type": "display_data"
    }
   ],
   "source": [
    "plt.figure(figsize=[12,8])\n",
    "plt.title('Address State Comparison For Defaulters')\n",
    "sns.countplot(data=filtered_loan_df[filtered_loan_df['is_defaulter']==1],x='addr_state',color='red')\n",
    "plt.xlabel('State')\n",
    "plt.ylabel('Defaulters Count')\n",
    "plt.xticks(rotation=90)\n",
    "plt.show()"
   ]
  },
  {
   "cell_type": "markdown",
   "id": "f7cd8f75-eea9-4227-bc40-072932a74fe7",
   "metadata": {},
   "source": [
    "## Observation : Maximum number of defaulters are coming from states CA , FL , NY..."
   ]
  },
  {
   "cell_type": "markdown",
   "id": "7117c399-6441-4d94-b2cb-7f1579fb0575",
   "metadata": {},
   "source": [
    "# Major Conclusions \n",
    "\n",
    "### Our research indicates that borrowers with the following characteristics are significantly more likely to default on their loans:<br/>\n",
    "\n",
    "### Low Income: Borrowers earning below a defined salary threshold.<br/>\n",
    "\n",
    "### Purpose of Loan: Loans taken specifically for debt consolidation.<br/>\n",
    "\n",
    "### Loan Amount: Borrowers seeking loans of less than $30,000.<br/>\n",
    "\n",
    "### Loan Grade: Loans with a grade equal to or above the mid-tier (e.g., E or higher).<br/>\n",
    "\n",
    "### Interest Rate: Loans with interest rates exceeding 15%, reflecting prior credit challenges.<br/>\n"
   ]
  }
 ],
 "metadata": {
  "kernelspec": {
   "display_name": "Python 3 (ipykernel)",
   "language": "python",
   "name": "python3"
  },
  "language_info": {
   "codemirror_mode": {
    "name": "ipython",
    "version": 3
   },
   "file_extension": ".py",
   "mimetype": "text/x-python",
   "name": "python",
   "nbconvert_exporter": "python",
   "pygments_lexer": "ipython3",
   "version": "3.11.8"
  }
 },
 "nbformat": 4,
 "nbformat_minor": 5
}
